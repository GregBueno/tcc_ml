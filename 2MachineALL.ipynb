{
 "cells": [
  {
   "cell_type": "code",
   "execution_count": 1,
   "metadata": {},
   "outputs": [],
   "source": [
    "import joblib\n",
    "import pandas as pd\n",
    "import numpy as np\n",
    "import os\n",
    "import seaborn as sns\n",
    "import matplotlib.pyplot as plt\n",
    "import numpy as np\n",
    "\n",
    "%matplotlib inline\n",
    "\n",
    "import warnings\n",
    "warnings.filterwarnings(\"ignore\", category=FutureWarning)\n",
    "\n",
    "from sklearn.exceptions import DataConversionWarning\n",
    "warnings.filterwarnings(action='ignore', category=DataConversionWarning)\n",
    "\n",
    "pd.options.display.max_rows = 1000\n",
    "pd.options.display.max_columns = 50\n",
    "pd.set_option('display.max_colwidth', 120)"
   ]
  },
  {
   "cell_type": "code",
   "execution_count": 2,
   "metadata": {},
   "outputs": [],
   "source": [
    "from sklearn.utils.multiclass import unique_labels\n",
    "def plot_confusion_matrix(y_true, y_pred, classes,\n",
    "                          normalize=False,\n",
    "                          title=None,\n",
    "                          cmap=plt.cm.Blues):\n",
    "    \"\"\"\n",
    "    This function prints and plots the confusion matrix.\n",
    "    Normalization can be applied by setting `normalize=True`.\n",
    "    \"\"\"\n",
    "    if not title:\n",
    "        if normalize:\n",
    "            title = 'Normalized confusion matrix'\n",
    "        else:\n",
    "            title = 'Confusion matrix, without normalization'\n",
    "\n",
    "    # Compute confusion matrix\n",
    "    cm = confusion_matrix(y_true, y_pred);\n",
    "    # Only use the labels that appear in the data\n",
    "    classes = classes[unique_labels(y_true, y_pred)]\n",
    "    if normalize:\n",
    "        cm = cm.astype('float') / cm.sum(axis=1)[:, np.newaxis]\n",
    "        print(\"Normalized confusion matrix\")\n",
    "    else:\n",
    "        print('Confusion matrix, without normalization')\n",
    "\n",
    "        \n",
    "    fig, ax = plt.subplots(1,1, figsize=(10,8))\n",
    "    \n",
    "    im = ax.imshow(cm, interpolation='nearest', cmap=cmap,vmin=0,vmax=1)\n",
    "    \n",
    "    cbar = fig.colorbar(im, ax=ax)\n",
    "    cbar.ax.tick_params(labelsize=15) \n",
    "#     ax.figure.colorbar(im, ax=ax)\n",
    "#     ax.tick_params(labelsize=10) \n",
    "    \n",
    "    # We want to show all ticks...\n",
    "    _ = ax.set_ylabel('True Label', fontsize=20)\n",
    "    _ = ax.set_xlabel('Predicted Label', fontsize=20)\n",
    "    _ = ax.set_xticklabels(classes,fontsize=20)\n",
    "    _ = ax.set_yticklabels(classes,fontsize=20)\n",
    "    _ = ax.set_title(title, fontsize=22)\n",
    "    \n",
    "    ax.set(xticks=np.arange(cm.shape[1]),\n",
    "           yticks=np.arange(cm.shape[0]),\n",
    "           # ... and label them with the respective list entries\n",
    "           xticklabels=classes, yticklabels=classes)\n",
    "#            title=title,\n",
    "#            ylabel='True label',\n",
    "#            xlabel='Predicted label')\n",
    "     \n",
    "    # Rotate the tick labels and set their alignment.\n",
    "    plt.setp(ax.get_xticklabels(), rotation=45, ha=\"right\",\n",
    "             rotation_mode=\"anchor\")\n",
    "    \n",
    "    # Loop over data dimensions and create text annotations.\n",
    "    fmt = '.2f' if normalize else 'd'\n",
    "    thresh = cm.max() / 2.\n",
    "    for i in range(cm.shape[0]):\n",
    "        for j in range(cm.shape[1]):\n",
    "            ax.text(j, i, format(cm[i, j], fmt),\n",
    "                    ha=\"center\", va=\"center\",\n",
    "                    color=\"white\" if cm[i, j] > thresh else \"black\",fontsize=15)\n",
    "    fig.tight_layout()\n",
    "    \n",
    "    #fig.savefig('./img.png',dpi = 300)   # save the figure to file\n",
    "#     plt.close(fig)    # close the figure window\n",
    "    \n",
    "    return ax"
   ]
  },
  {
   "cell_type": "code",
   "execution_count": 3,
   "metadata": {},
   "outputs": [],
   "source": [
    "def plot_freq(df, col, top_classes=20):\n",
    "    \"\"\"\n",
    "    :param df: dataframe\n",
    "    :param col: list of label string\n",
    "    :param top_classes: (integer) Plot top labels only.\n",
    "    \"\"\"\n",
    "    sns.set_style('whitegrid')\n",
    "\n",
    "    col = col\n",
    "    data = df[~df[col].isnull().any(axis=1)]\n",
    "    data = data.set_index(col)\n",
    "    \n",
    "    # Check out the frequency over each concept.\n",
    "    freq = pd.DataFrame({\n",
    "            'freq': data.index.value_counts(normalize=True),\n",
    "            'count': data.index.value_counts(normalize=False)},\n",
    "            index=data.index.value_counts(normalize=True).index)\n",
    "    print('Frequency(Top {})...'.format(top_classes))\n",
    "    freq = freq[:top_classes]\n",
    "    display(freq)\n",
    "    \n",
    "    # Plot bar chart.\n",
    "    fig, ax = plt.subplots(1,1, figsize=(15,8))\n",
    "    _ = freq.plot(y='freq', kind='bar', ax=ax, legend=False, colormap='Set2')\n",
    "    _ = ax.set_ylabel('frequency', fontsize='x-large')\n",
    "    _ = ax.set_xticklabels(freq.index.values, rotation=40, ha='right')\n",
    "    _ = ax.set_title('Frequency over Each Class', fontsize='x-large')"
   ]
  },
  {
   "cell_type": "markdown",
   "metadata": {},
   "source": [
    "# Table"
   ]
  },
  {
   "cell_type": "code",
   "execution_count": 4,
   "metadata": {},
   "outputs": [],
   "source": [
    "columnToClassify = 'priority'"
   ]
  },
  {
   "cell_type": "code",
   "execution_count": 5,
   "metadata": {},
   "outputs": [],
   "source": [
    "df_table_full = pd.read_csv(\"./resource/maint_order_process.csv\",low_memory=False)"
   ]
  },
  {
   "cell_type": "code",
   "execution_count": 6,
   "metadata": {},
   "outputs": [
    {
     "data": {
      "text/plain": [
       "(193005, 84)"
      ]
     },
     "execution_count": 6,
     "metadata": {},
     "output_type": "execute_result"
    }
   ],
   "source": [
    "df_table_full.shape"
   ]
  },
  {
   "cell_type": "code",
   "execution_count": 7,
   "metadata": {},
   "outputs": [
    {
     "data": {
      "text/html": [
       "<div>\n",
       "<style scoped>\n",
       "    .dataframe tbody tr th:only-of-type {\n",
       "        vertical-align: middle;\n",
       "    }\n",
       "\n",
       "    .dataframe tbody tr th {\n",
       "        vertical-align: top;\n",
       "    }\n",
       "\n",
       "    .dataframe thead th {\n",
       "        text-align: right;\n",
       "    }\n",
       "</style>\n",
       "<table border=\"1\" class=\"dataframe\">\n",
       "  <thead>\n",
       "    <tr style=\"text-align: right;\">\n",
       "      <th></th>\n",
       "      <th>priority</th>\n",
       "      <th>count</th>\n",
       "    </tr>\n",
       "  </thead>\n",
       "  <tbody>\n",
       "    <tr>\n",
       "      <th>0</th>\n",
       "      <td>1</td>\n",
       "      <td>141982</td>\n",
       "    </tr>\n",
       "    <tr>\n",
       "      <th>1</th>\n",
       "      <td>2</td>\n",
       "      <td>19733</td>\n",
       "    </tr>\n",
       "    <tr>\n",
       "      <th>2</th>\n",
       "      <td>3</td>\n",
       "      <td>17652</td>\n",
       "    </tr>\n",
       "    <tr>\n",
       "      <th>3</th>\n",
       "      <td>4</td>\n",
       "      <td>9092</td>\n",
       "    </tr>\n",
       "    <tr>\n",
       "      <th>4</th>\n",
       "      <td>5</td>\n",
       "      <td>4546</td>\n",
       "    </tr>\n",
       "  </tbody>\n",
       "</table>\n",
       "</div>"
      ],
      "text/plain": [
       "   priority   count\n",
       "0         1  141982\n",
       "1         2   19733\n",
       "2         3   17652\n",
       "3         4    9092\n",
       "4         5    4546"
      ]
     },
     "execution_count": 7,
     "metadata": {},
     "output_type": "execute_result"
    }
   ],
   "source": [
    "df_table_full.groupby('priority').size().reset_index(name='count')"
   ]
  },
  {
   "cell_type": "code",
   "execution_count": 8,
   "metadata": {},
   "outputs": [],
   "source": [
    "df_plot = df_table_full.groupby(['priority']).size().reset_index(name='count').sort_values(by=['count'],ascending=False)"
   ]
  },
  {
   "cell_type": "code",
   "execution_count": 9,
   "metadata": {},
   "outputs": [
    {
     "data": {
      "image/png": "[encoded data removed]",
      "text/plain": [
       "<Figure size 576x432 with 1 Axes>"
      ]
     },
     "metadata": {},
     "output_type": "display_data"
    }
   ],
   "source": [
    "sns.set_style('whitegrid')\n",
    "fig, ax = plt.subplots(1,1, figsize=(8,6))\n",
    "_ = df_plot.plot(y='count', kind='bar', ax=ax, legend=False, colormap='Set2')\n",
    "_ = ax.set_ylabel('Count', fontsize='x-large')\n",
    "_ = ax.set_xlabel('Label', fontsize='x-large')\n",
    "_ = ax.set_xticklabels(df_plot.priority.values, rotation=40, ha='right')\n",
    "_ = ax.set_title('Data Count by Class', fontsize='x-large')"
   ]
  },
  {
   "cell_type": "raw",
   "metadata": {},
   "source": [
    "for column in df_table_full.columns:\n",
    "    print(column)\n",
    "    display(df_table_full.groupby([column]).size().reset_index(name='count').sort_values(by=['count'],ascending=False))"
   ]
  },
  {
   "cell_type": "markdown",
   "metadata": {},
   "source": [
    "# TOPSIS Result"
   ]
  },
  {
   "cell_type": "code",
   "execution_count": 10,
   "metadata": {},
   "outputs": [],
   "source": [
    "df_topsis = pd.read_csv('./resource/output_topsis.csv')"
   ]
  },
  {
   "cell_type": "code",
   "execution_count": 11,
   "metadata": {},
   "outputs": [],
   "source": [
    "df_topsis = df_topsis[df_topsis.col!='priority']"
   ]
  },
  {
   "cell_type": "code",
   "execution_count": 12,
   "metadata": {},
   "outputs": [
    {
     "data": {
      "text/plain": [
       "(83, 7)"
      ]
     },
     "execution_count": 12,
     "metadata": {},
     "output_type": "execute_result"
    }
   ],
   "source": [
    "df_topsis.shape"
   ]
  },
  {
   "cell_type": "code",
   "execution_count": 13,
   "metadata": {},
   "outputs": [
    {
     "data": {
      "text/html": [
       "<div>\n",
       "<style scoped>\n",
       "    .dataframe tbody tr th:only-of-type {\n",
       "        vertical-align: middle;\n",
       "    }\n",
       "\n",
       "    .dataframe tbody tr th {\n",
       "        vertical-align: top;\n",
       "    }\n",
       "\n",
       "    .dataframe thead th {\n",
       "        text-align: right;\n",
       "    }\n",
       "</style>\n",
       "<table border=\"1\" class=\"dataframe\">\n",
       "  <thead>\n",
       "    <tr style=\"text-align: right;\">\n",
       "      <th></th>\n",
       "      <th>col</th>\n",
       "      <th>typevalue</th>\n",
       "      <th>usenull</th>\n",
       "      <th>p_null</th>\n",
       "      <th>p_unique</th>\n",
       "      <th>p_max_row_class</th>\n",
       "      <th>rank_topsis</th>\n",
       "    </tr>\n",
       "  </thead>\n",
       "  <tbody>\n",
       "    <tr>\n",
       "      <th>0</th>\n",
       "      <td>third_loc_id</td>\n",
       "      <td>1.0</td>\n",
       "      <td>1.0</td>\n",
       "      <td>0.033937</td>\n",
       "      <td>0.013533</td>\n",
       "      <td>0.031963</td>\n",
       "      <td>0.979647</td>\n",
       "    </tr>\n",
       "    <tr>\n",
       "      <th>1</th>\n",
       "      <td>second_loc_id</td>\n",
       "      <td>1.0</td>\n",
       "      <td>1.0</td>\n",
       "      <td>0.026155</td>\n",
       "      <td>0.003212</td>\n",
       "      <td>0.067071</td>\n",
       "      <td>0.966268</td>\n",
       "    </tr>\n",
       "    <tr>\n",
       "      <th>2</th>\n",
       "      <td>cost_center_id</td>\n",
       "      <td>1.0</td>\n",
       "      <td>1.0</td>\n",
       "      <td>0.025989</td>\n",
       "      <td>0.001264</td>\n",
       "      <td>0.068382</td>\n",
       "      <td>0.965746</td>\n",
       "    </tr>\n",
       "    <tr>\n",
       "      <th>3</th>\n",
       "      <td>asset_id</td>\n",
       "      <td>1.0</td>\n",
       "      <td>1.0</td>\n",
       "      <td>0.025901</td>\n",
       "      <td>0.051905</td>\n",
       "      <td>0.031693</td>\n",
       "      <td>0.959837</td>\n",
       "    </tr>\n",
       "    <tr>\n",
       "      <th>4</th>\n",
       "      <td>asset_group_id</td>\n",
       "      <td>1.0</td>\n",
       "      <td>1.0</td>\n",
       "      <td>0.025901</td>\n",
       "      <td>0.006580</td>\n",
       "      <td>0.089459</td>\n",
       "      <td>0.955425</td>\n",
       "    </tr>\n",
       "  </tbody>\n",
       "</table>\n",
       "</div>"
      ],
      "text/plain": [
       "              col  typevalue  usenull    p_null  p_unique  p_max_row_class  \\\n",
       "0    third_loc_id        1.0      1.0  0.033937  0.013533         0.031963   \n",
       "1   second_loc_id        1.0      1.0  0.026155  0.003212         0.067071   \n",
       "2  cost_center_id        1.0      1.0  0.025989  0.001264         0.068382   \n",
       "3        asset_id        1.0      1.0  0.025901  0.051905         0.031693   \n",
       "4  asset_group_id        1.0      1.0  0.025901  0.006580         0.089459   \n",
       "\n",
       "   rank_topsis  \n",
       "0     0.979647  \n",
       "1     0.966268  \n",
       "2     0.965746  \n",
       "3     0.959837  \n",
       "4     0.955425  "
      ]
     },
     "execution_count": 13,
     "metadata": {},
     "output_type": "execute_result"
    }
   ],
   "source": [
    "df_topsis.head()"
   ]
  },
  {
   "cell_type": "code",
   "execution_count": 14,
   "metadata": {},
   "outputs": [],
   "source": [
    "list_exclude = ['cancel_user_id','origin_doc','prog_year_week_number','maint_order_cancel_reason_id',\n",
    "                'total_cost','rpn','what','when','who','why','how','maint_order_on_hold_reason_id','performed_worktime',\n",
    "                'estimated_worktime','performed_asset_downtime','id_mobile','mobile_uuid','rework_cos','index',\n",
    "                'priority_calculated','maint_req_priority','maint_req_id',\n",
    "                'user_text','scheduled_to_origin','est_finish_at','scheduled_to','est_finish_at_origin','logged_user_id']\n",
    "\n",
    "df_exclude = df_table_full\n",
    "\n",
    "for i in list_exclude:\n",
    "    try:\n",
    "        df_exclude = df_exclude.drop(i, axis=1)\n",
    "    except:\n",
    "        pass"
   ]
  },
  {
   "cell_type": "code",
   "execution_count": 15,
   "metadata": {},
   "outputs": [],
   "source": [
    "df_topsis = df_topsis[df_topsis.col.isin(df_exclude.columns)]"
   ]
  },
  {
   "cell_type": "code",
   "execution_count": 16,
   "metadata": {},
   "outputs": [],
   "source": [
    "df_topsis = df_topsis.reset_index().drop('index',axis=1)"
   ]
  },
  {
   "cell_type": "code",
   "execution_count": 17,
   "metadata": {},
   "outputs": [],
   "source": [
    "# Select columns based in condition\n",
    "df_select = df_topsis.query(\"p_null < 0.5 and p_unique < 0.5 and p_max_row_class < 0.8\")"
   ]
  },
  {
   "cell_type": "code",
   "execution_count": 18,
   "metadata": {},
   "outputs": [],
   "source": [
    "dict_cols = {\n",
    "    \"topsis5\" : list(df_topsis[:5].col.values) ,\n",
    "    \"topsis10\" : list(df_topsis[:10].col.values) ,\n",
    "    \"topsis15\" : list(df_topsis[:15].col.values) ,\n",
    "    \"topsis20\" : list(df_topsis[:20].col.values) ,\n",
    "    \"topsis25\" : list(df_topsis[:25].col.values) ,\n",
    "    \"manualcols\" : list(df_select.col.values)\n",
    "}"
   ]
  },
  {
   "cell_type": "markdown",
   "metadata": {},
   "source": [
    "# Normalize Field Priority"
   ]
  },
  {
   "cell_type": "code",
   "execution_count": 19,
   "metadata": {},
   "outputs": [],
   "source": [
    "# Use Table Normalized or Table Raw\n",
    "# df_table = pd.concat(list_df)\n",
    "df_table = df_table_full"
   ]
  },
  {
   "cell_type": "code",
   "execution_count": 20,
   "metadata": {},
   "outputs": [
    {
     "name": "stdout",
     "output_type": "stream",
     "text": [
      "Field Labels  [1 3 5 2 4]\n",
      "Table Thape  (193005, 84)\n"
     ]
    }
   ],
   "source": [
    "print('Field Labels ', df_table[columnToClassify].unique())\n",
    "print('Table Thape ',df_table.shape)"
   ]
  },
  {
   "cell_type": "markdown",
   "metadata": {},
   "source": [
    "# Func Process Dataframe"
   ]
  },
  {
   "cell_type": "code",
   "execution_count": 21,
   "metadata": {},
   "outputs": [],
   "source": [
    "\"\"\"\n",
    "Options \n",
    "------\n",
    "topsis5 topsis10 topsis15 topsis20 topsis25 manualcols\n",
    "\"\"\"\n",
    "def process_df_ml(df_raw, columnToClassify, cols_list):\n",
    "    \n",
    "    df_table = df_raw[[columnToClassify,*cols_list]]\n",
    "\n",
    "    previsores = df_table.drop(columnToClassify, axis=1)\n",
    "    classe = df_table[[columnToClassify]]\n",
    "\n",
    "    previsores_names = list(df_table.drop(columnToClassify, axis=1).columns)\n",
    "    class_names = df_table[columnToClassify].unique().astype(str)\n",
    "\n",
    "    _,cols = previsores.shape\n",
    "\n",
    "    # Features Transform\n",
    "\n",
    "    from sklearn.preprocessing import LabelEncoder\n",
    "\n",
    "    labelencoder_previsores = LabelEncoder()\n",
    "    for i in previsores.columns:\n",
    "        previsores[i] = labelencoder_previsores.fit_transform(previsores[i])\n",
    "\n",
    "    labelencoder_classe = LabelEncoder()\n",
    "    classe[columnToClassify] = labelencoder_classe.fit_transform(classe[columnToClassify])\n",
    "\n",
    "    # Split Dataset\n",
    "\n",
    "    from sklearn.model_selection import train_test_split\n",
    "\n",
    "    X_train, X_test, y_train, y_test = train_test_split(previsores, classe, test_size=0.30, random_state=0)\n",
    "\n",
    "    # Smote\n",
    "\n",
    "    from imblearn.under_sampling import NearMiss\n",
    "\n",
    "    nr = NearMiss()\n",
    "    X_train, y_train = nr.fit_sample(X_train, y_train)\n",
    "    \n",
    "    return X_train, X_test, y_train, y_test"
   ]
  },
  {
   "cell_type": "markdown",
   "metadata": {},
   "source": [
    "# Test Varius Algorithms"
   ]
  },
  {
   "cell_type": "code",
   "execution_count": 22,
   "metadata": {},
   "outputs": [],
   "source": [
    "#sklearn\n",
    "from sklearn.model_selection import train_test_split, cross_val_score\n",
    "from sklearn.metrics import mean_squared_error,confusion_matrix, precision_score, recall_score, auc,roc_curve\n",
    "from sklearn import ensemble, linear_model, neighbors, svm, tree, neural_network\n",
    "from sklearn.pipeline import make_pipeline\n",
    "from sklearn.linear_model import Ridge\n",
    "from sklearn.preprocessing import PolynomialFeatures\n",
    "from sklearn import svm,model_selection, tree, linear_model, neighbors, naive_bayes, ensemble, discriminant_analysis, gaussian_process\n",
    "\n",
    "#load package\n",
    "import pandas as pd\n",
    "import numpy as np\n",
    "import matplotlib.pyplot as plt\n",
    "#from math import sqrt\n",
    "import seaborn as sns\n",
    "\n",
    "import warnings\n",
    "warnings.filterwarnings('ignore')"
   ]
  },
  {
   "cell_type": "code",
   "execution_count": 60,
   "metadata": {},
   "outputs": [],
   "source": [
    "MLA = [\n",
    "    #Ensemble Methods\n",
    "#     ensemble.AdaBoostClassifier(),\n",
    "#     ensemble.BaggingClassifier(),\n",
    "#     ensemble.ExtraTreesClassifier(),\n",
    "#     ensemble.GradientBoostingClassifier(),\n",
    "    ensemble.RandomForestClassifier(),\n",
    "\n",
    "    #Gaussian Processes\n",
    "#     gaussian_process.GaussianProcessClassifier(),\n",
    "    \n",
    "    #GLM\n",
    "    linear_model.LogisticRegressionCV(),\n",
    "#     linear_model.PassiveAggressiveClassifier(),\n",
    "#     linear_model. RidgeClassifierCV(),\n",
    "#     linear_model.SGDClassifier(),\n",
    "#     linear_model.Perceptron(),\n",
    "    \n",
    "    #Navies Bayes\n",
    "#     naive_bayes.BernoulliNB(),\n",
    "    naive_bayes.GaussianNB(),\n",
    "    \n",
    "    #Nearest Neighbor\n",
    "    neighbors.KNeighborsClassifier(),\n",
    "    \n",
    "    #SVM\n",
    "#     svm.SVC(probability=True),\n",
    "#     svm.NuSVC(probability=True),\n",
    "#     svm.LinearSVC(),\n",
    "    \n",
    "    #Trees    \n",
    "    tree.DecisionTreeClassifier(),\n",
    "   #tree.ExtraTreeClassifier(),\n",
    "    \n",
    "    ]"
   ]
  },
  {
   "cell_type": "code",
   "execution_count": 61,
   "metadata": {},
   "outputs": [
    {
     "name": "stdout",
     "output_type": "stream",
     "text": [
      "RandomForestClassifier\n",
      "LogisticRegressionCV\n",
      "GaussianNB\n",
      "KNeighborsClassifier\n",
      "DecisionTreeClassifier\n"
     ]
    }
   ],
   "source": [
    "MLA_columns = []\n",
    "MLA_compare = pd.DataFrame(columns = MLA_columns)\n",
    "\n",
    "\n",
    "row_index = 0\n",
    "for alg in MLA:\n",
    "    print(alg.__class__.__name__)\n",
    "    for key in dict_cols.keys():\n",
    "#         print(key)\n",
    "        \n",
    "        X_train, X_test, y_train, y_test = process_df_ml(df_table, columnToClassify, dict_cols[key])\n",
    "    \n",
    "        predicted = alg.fit(X_train, y_train).predict(X_test)\n",
    "        \n",
    "        \n",
    "        MLA_name = alg.__class__.__name__\n",
    "        MLA_compare.loc[row_index, 'Data_Mode'] = key\n",
    "        MLA_compare.loc[row_index, 'MLA_Name'] = MLA_name\n",
    "        MLA_compare.loc[row_index, 'MLA_Train_Accuracy'] = round(alg.score(X_train, y_train), 4)\n",
    "        MLA_compare.loc[row_index, 'MLA_Test_Accuracy'] = round(alg.score(X_test, y_test), 4)\n",
    "\n",
    "        row_index+=1\n",
    "    \n",
    "MLA_compare.sort_values(by = ['MLA_Test_Accuracy'], ascending = False, inplace = True)    "
   ]
  },
  {
   "cell_type": "code",
   "execution_count": 62,
   "metadata": {},
   "outputs": [
    {
     "data": {
      "text/html": [
       "<div>\n",
       "<style scoped>\n",
       "    .dataframe tbody tr th:only-of-type {\n",
       "        vertical-align: middle;\n",
       "    }\n",
       "\n",
       "    .dataframe tbody tr th {\n",
       "        vertical-align: top;\n",
       "    }\n",
       "\n",
       "    .dataframe thead th {\n",
       "        text-align: right;\n",
       "    }\n",
       "</style>\n",
       "<table border=\"1\" class=\"dataframe\">\n",
       "  <thead>\n",
       "    <tr style=\"text-align: right;\">\n",
       "      <th></th>\n",
       "      <th>Data_Mode</th>\n",
       "      <th>MLA_Name</th>\n",
       "      <th>MLA_Train_Accuracy</th>\n",
       "      <th>MLA_Test_Accuracy</th>\n",
       "    </tr>\n",
       "  </thead>\n",
       "  <tbody>\n",
       "    <tr>\n",
       "      <th>4</th>\n",
       "      <td>topsis25</td>\n",
       "      <td>RandomForestClassifier</td>\n",
       "      <td>0.9872</td>\n",
       "      <td>0.5548</td>\n",
       "    </tr>\n",
       "    <tr>\n",
       "      <th>3</th>\n",
       "      <td>topsis20</td>\n",
       "      <td>RandomForestClassifier</td>\n",
       "      <td>0.9877</td>\n",
       "      <td>0.4906</td>\n",
       "    </tr>\n",
       "    <tr>\n",
       "      <th>2</th>\n",
       "      <td>topsis15</td>\n",
       "      <td>RandomForestClassifier</td>\n",
       "      <td>0.9866</td>\n",
       "      <td>0.4345</td>\n",
       "    </tr>\n",
       "    <tr>\n",
       "      <th>28</th>\n",
       "      <td>topsis25</td>\n",
       "      <td>DecisionTreeClassifier</td>\n",
       "      <td>1.0000</td>\n",
       "      <td>0.4233</td>\n",
       "    </tr>\n",
       "    <tr>\n",
       "      <th>27</th>\n",
       "      <td>topsis20</td>\n",
       "      <td>DecisionTreeClassifier</td>\n",
       "      <td>1.0000</td>\n",
       "      <td>0.4159</td>\n",
       "    </tr>\n",
       "  </tbody>\n",
       "</table>\n",
       "</div>"
      ],
      "text/plain": [
       "   Data_Mode                MLA_Name  MLA_Train_Accuracy  MLA_Test_Accuracy\n",
       "4   topsis25  RandomForestClassifier              0.9872             0.5548\n",
       "3   topsis20  RandomForestClassifier              0.9877             0.4906\n",
       "2   topsis15  RandomForestClassifier              0.9866             0.4345\n",
       "28  topsis25  DecisionTreeClassifier              1.0000             0.4233\n",
       "27  topsis20  DecisionTreeClassifier              1.0000             0.4159"
      ]
     },
     "execution_count": 62,
     "metadata": {},
     "output_type": "execute_result"
    }
   ],
   "source": [
    "MLA_compare.head()"
   ]
  },
  {
   "cell_type": "code",
   "execution_count": 63,
   "metadata": {},
   "outputs": [],
   "source": [
    "# pd.pivot_table(MLA_compare,index=[\"Data_Mode\",\"MLA_Name\"])"
   ]
  },
  {
   "cell_type": "code",
   "execution_count": 74,
   "metadata": {},
   "outputs": [],
   "source": [
    "df2 = pd.pivot_table(MLA_compare, \n",
    "                        values=['MLA_Test_Accuracy','MLA_Train_Accuracy'],\n",
    "                        index=['MLA_Name'],\n",
    "                        columns=['Data_Mode'],\n",
    "#                         aggfunc=np.sum,\n",
    "                        fill_value=0).reset_index()\n"
   ]
  },
  {
   "cell_type": "code",
   "execution_count": 75,
   "metadata": {},
   "outputs": [
    {
     "data": {
      "text/html": [
       "<div>\n",
       "<style scoped>\n",
       "    .dataframe tbody tr th:only-of-type {\n",
       "        vertical-align: middle;\n",
       "    }\n",
       "\n",
       "    .dataframe tbody tr th {\n",
       "        vertical-align: top;\n",
       "    }\n",
       "\n",
       "    .dataframe thead tr th {\n",
       "        text-align: left;\n",
       "    }\n",
       "</style>\n",
       "<table border=\"1\" class=\"dataframe\">\n",
       "  <thead>\n",
       "    <tr>\n",
       "      <th></th>\n",
       "      <th>MLA_Name</th>\n",
       "      <th colspan=\"6\" halign=\"left\">MLA_Test_Accuracy</th>\n",
       "      <th colspan=\"6\" halign=\"left\">MLA_Train_Accuracy</th>\n",
       "    </tr>\n",
       "    <tr>\n",
       "      <th>Data_Mode</th>\n",
       "      <th></th>\n",
       "      <th>manualcols</th>\n",
       "      <th>topsis10</th>\n",
       "      <th>topsis15</th>\n",
       "      <th>topsis20</th>\n",
       "      <th>topsis25</th>\n",
       "      <th>topsis5</th>\n",
       "      <th>manualcols</th>\n",
       "      <th>topsis10</th>\n",
       "      <th>topsis15</th>\n",
       "      <th>topsis20</th>\n",
       "      <th>topsis25</th>\n",
       "      <th>topsis5</th>\n",
       "    </tr>\n",
       "  </thead>\n",
       "  <tbody>\n",
       "    <tr>\n",
       "      <th>0</th>\n",
       "      <td>DecisionTreeClassifier</td>\n",
       "      <td>0.1095</td>\n",
       "      <td>0.2546</td>\n",
       "      <td>0.3513</td>\n",
       "      <td>0.4159</td>\n",
       "      <td>0.4233</td>\n",
       "      <td>0.1390</td>\n",
       "      <td>0.4897</td>\n",
       "      <td>1.0000</td>\n",
       "      <td>1.0000</td>\n",
       "      <td>1.0000</td>\n",
       "      <td>1.0000</td>\n",
       "      <td>0.4011</td>\n",
       "    </tr>\n",
       "    <tr>\n",
       "      <th>1</th>\n",
       "      <td>GaussianNB</td>\n",
       "      <td>0.1188</td>\n",
       "      <td>0.3192</td>\n",
       "      <td>0.2925</td>\n",
       "      <td>0.3236</td>\n",
       "      <td>0.3605</td>\n",
       "      <td>0.0892</td>\n",
       "      <td>0.2884</td>\n",
       "      <td>0.3603</td>\n",
       "      <td>0.3514</td>\n",
       "      <td>0.3781</td>\n",
       "      <td>0.3627</td>\n",
       "      <td>0.2806</td>\n",
       "    </tr>\n",
       "    <tr>\n",
       "      <th>2</th>\n",
       "      <td>KNeighborsClassifier</td>\n",
       "      <td>0.1080</td>\n",
       "      <td>0.1311</td>\n",
       "      <td>0.2208</td>\n",
       "      <td>0.2244</td>\n",
       "      <td>0.2307</td>\n",
       "      <td>0.1548</td>\n",
       "      <td>0.3822</td>\n",
       "      <td>0.7286</td>\n",
       "      <td>0.7332</td>\n",
       "      <td>0.7365</td>\n",
       "      <td>0.7382</td>\n",
       "      <td>0.3246</td>\n",
       "    </tr>\n",
       "    <tr>\n",
       "      <th>3</th>\n",
       "      <td>LogisticRegressionCV</td>\n",
       "      <td>0.2461</td>\n",
       "      <td>0.1820</td>\n",
       "      <td>0.1677</td>\n",
       "      <td>0.1495</td>\n",
       "      <td>0.1517</td>\n",
       "      <td>0.1516</td>\n",
       "      <td>0.3067</td>\n",
       "      <td>0.3485</td>\n",
       "      <td>0.4143</td>\n",
       "      <td>0.4058</td>\n",
       "      <td>0.4055</td>\n",
       "      <td>0.2909</td>\n",
       "    </tr>\n",
       "    <tr>\n",
       "      <th>4</th>\n",
       "      <td>RandomForestClassifier</td>\n",
       "      <td>0.0939</td>\n",
       "      <td>0.2743</td>\n",
       "      <td>0.4345</td>\n",
       "      <td>0.4906</td>\n",
       "      <td>0.5548</td>\n",
       "      <td>0.0943</td>\n",
       "      <td>0.4884</td>\n",
       "      <td>0.9817</td>\n",
       "      <td>0.9866</td>\n",
       "      <td>0.9877</td>\n",
       "      <td>0.9872</td>\n",
       "      <td>0.3997</td>\n",
       "    </tr>\n",
       "  </tbody>\n",
       "</table>\n",
       "</div>"
      ],
      "text/plain": [
       "                         MLA_Name MLA_Test_Accuracy                    \\\n",
       "Data_Mode                                manualcols topsis10 topsis15   \n",
       "0          DecisionTreeClassifier            0.1095   0.2546   0.3513   \n",
       "1                      GaussianNB            0.1188   0.3192   0.2925   \n",
       "2            KNeighborsClassifier            0.1080   0.1311   0.2208   \n",
       "3            LogisticRegressionCV            0.2461   0.1820   0.1677   \n",
       "4          RandomForestClassifier            0.0939   0.2743   0.4345   \n",
       "\n",
       "                                    MLA_Train_Accuracy                    \\\n",
       "Data_Mode topsis20 topsis25 topsis5         manualcols topsis10 topsis15   \n",
       "0           0.4159   0.4233  0.1390             0.4897   1.0000   1.0000   \n",
       "1           0.3236   0.3605  0.0892             0.2884   0.3603   0.3514   \n",
       "2           0.2244   0.2307  0.1548             0.3822   0.7286   0.7332   \n",
       "3           0.1495   0.1517  0.1516             0.3067   0.3485   0.4143   \n",
       "4           0.4906   0.5548  0.0943             0.4884   0.9817   0.9866   \n",
       "\n",
       "                                     \n",
       "Data_Mode topsis20 topsis25 topsis5  \n",
       "0           1.0000   1.0000  0.4011  \n",
       "1           0.3781   0.3627  0.2806  \n",
       "2           0.7365   0.7382  0.3246  \n",
       "3           0.4058   0.4055  0.2909  \n",
       "4           0.9877   0.9872  0.3997  "
      ]
     },
     "execution_count": 75,
     "metadata": {},
     "output_type": "execute_result"
    }
   ],
   "source": [
    "df2"
   ]
  },
  {
   "cell_type": "code",
   "execution_count": null,
   "metadata": {},
   "outputs": [],
   "source": []
  }
 ],
 "metadata": {
  "kernelspec": {
   "display_name": "Python 3",
   "language": "python",
   "name": "python3"
  },
  "language_info": {
   "codemirror_mode": {
    "name": "ipython",
    "version": 3
   },
   "file_extension": ".py",
   "mimetype": "text/x-python",
   "name": "python",
   "nbconvert_exporter": "python",
   "pygments_lexer": "ipython3",
   "version": "3.6.8"
  }
 },
 "nbformat": 4,
 "nbformat_minor": 2
}
