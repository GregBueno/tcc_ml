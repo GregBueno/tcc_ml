{
 "cells": [
  {
   "cell_type": "code",
   "execution_count": null,
   "metadata": {},
   "outputs": [],
   "source": [
    "# from sklearn.preprocessing import StandardScaler\n",
    "# scaler = StandardScaler()\n",
    "# previsores = scaler.fit_transform(previsores)"
   ]
  },
  {
   "cell_type": "markdown",
   "metadata": {},
   "source": [
    "# Parse TXT"
   ]
  },
  {
   "cell_type": "code",
   "execution_count": null,
   "metadata": {},
   "outputs": [],
   "source": [
    "import os\n",
    "import re\n",
    "import pandas as pd\n",
    "\n",
    "path = \"./base_manusis/evaluation/records_validate.txt\"\n",
    "\n",
    "with open(path, 'r', encoding=\"UTF-16\", errors='ignore') as f:\n",
    "    contents = f.readlines()\n",
    "\n",
    "test_list = []\n",
    "\n",
    "for data in contents:\n",
    "    if len(re.findall(r'\\{([^]]+)\\}',data)) > 0:\n",
    "        pass\n",
    "    elif 'description' in data:\n",
    "        pass\n",
    "    else:\n",
    "        if ':' in data:\n",
    "            aux_spl = data.split(':')\n",
    "            \n",
    "            aux_spl_2 = ':'.join(aux_spl[1:])\n",
    "            aux_spl_2 = aux_spl_2.replace(\"\\n\",\",\\n\")\n",
    "            \n",
    "            text = f'\"{aux_spl[0]}\":{aux_spl_2}'\n",
    "            test_list.append(text)\n",
    "        else:\n",
    "            test_list.append(data)\n",
    "            \n",
    "json_result = ''.join(test_list)\n",
    "json_result = json_result.replace(',\\n}','\\n}')\n",
    "json_result = \"[\"+json_result+\"]\"\n",
    "json_result = json_result.replace('null','None')\n",
    "json_result = json_result.replace('false','False')\n",
    "json_result = json_result.replace('true','True')\n",
    "\n",
    "# with open(\"./base_manusis/evaluation/records_etl.json\",'w') as f:\n",
    "#     f.writelines(json_result)\n",
    "    \n",
    "# with open('./base_manusis/evaluation/records_etl.json', 'r', errors='ignore') as f:\n",
    "#     contents2 = f.read()\n",
    "\n",
    "json_list = eval(json_result)"
   ]
  },
  {
   "cell_type": "markdown",
   "metadata": {},
   "source": [
    "# Test JSON Modelo"
   ]
  },
  {
   "cell_type": "code",
   "execution_count": null,
   "metadata": {},
   "outputs": [],
   "source": [
    "df_eval = pd.DataFrame(json_list)\n",
    "df_eval = df_eval[df_table.columns]\n",
    "\n",
    "def correc(x):\n",
    "    if x in [None,False,np.NaN]:\n",
    "        return 0\n",
    "    elif x in [True]:\n",
    "        return 1\n",
    "    else:\n",
    "        return x\n",
    "\n",
    "for col in df_table.columns:\n",
    "    df_eval[col] = df_eval[col].apply(correc)\n",
    "    \n",
    "df_eval.head()"
   ]
  },
  {
   "cell_type": "code",
   "execution_count": null,
   "metadata": {},
   "outputs": [],
   "source": [
    "previsores_eval = df_eval.drop(columnToClassify, axis=1)\n",
    "classe_eval = df_eval[[columnToClassify]]\n",
    "\n",
    "previsores_names_eval = list(df_eval.drop(columnToClassify, axis=1).columns)\n",
    "class_names_eval = df_eval[columnToClassify].unique().astype(str)"
   ]
  },
  {
   "cell_type": "code",
   "execution_count": null,
   "metadata": {},
   "outputs": [],
   "source": [
    "_,cols = previsores_eval.shape"
   ]
  },
  {
   "cell_type": "code",
   "execution_count": null,
   "metadata": {},
   "outputs": [],
   "source": [
    "from sklearn.preprocessing import LabelEncoder\n",
    "\n",
    "labelencoder_previsores = LabelEncoder()\n",
    "for i in previsores_eval.columns:\n",
    "    previsores_eval[i] = labelencoder_previsores.fit_transform(previsores_eval[i])\n",
    "\n",
    "labelencoder_classe = LabelEncoder()\n",
    "classe_eval[columnToClassify] = labelencoder_classe.fit_transform(classe_eval[columnToClassify])"
   ]
  },
  {
   "cell_type": "code",
   "execution_count": null,
   "metadata": {},
   "outputs": [],
   "source": [
    "previsoes_eval = classificador.predict(previsores_eval)"
   ]
  },
  {
   "cell_type": "code",
   "execution_count": null,
   "metadata": {},
   "outputs": [],
   "source": [
    "from sklearn.metrics import confusion_matrix, accuracy_score\n",
    "\n",
    "precisao_eval = accuracy_score(classe_eval,previsoes_eval)\n",
    "matriz_eval = confusion_matrix(classe_eval,previsoes_eval)\n",
    "\n",
    "print('precision:', precisao_eval)"
   ]
  },
  {
   "cell_type": "code",
   "execution_count": null,
   "metadata": {},
   "outputs": [],
   "source": []
  },
  {
   "cell_type": "code",
   "execution_count": null,
   "metadata": {},
   "outputs": [],
   "source": []
  },
  {
   "cell_type": "markdown",
   "metadata": {},
   "source": [
    "# OLD START"
   ]
  },
  {
   "cell_type": "code",
   "execution_count": null,
   "metadata": {},
   "outputs": [],
   "source": [
    "# from sklearn.preprocessing import OneHotEncoder\n",
    "\n",
    "# onehotencoder = OneHotEncoder(categorical_features=[3])\n",
    "# previsores_test = onehotencoder.fit_transform(previsores).toarray()\n",
    "\n",
    "# cols_onehot = []\n",
    "# for i in range(0,cols):\n",
    "#     if len(np.unique(previsores[:, i]))>2 :\n",
    "#         cols_onehot.append(i)\n",
    "\n",
    "# onehotencoder = OneHotEncoder(categorical_features=cols_onehot,sparse=False)\n",
    "# previsores = onehotencoder.fit_transform(previsores).toarray()"
   ]
  },
  {
   "cell_type": "markdown",
   "metadata": {},
   "source": [
    "# OLD END"
   ]
  }
 ],
 "metadata": {
  "kernelspec": {
   "display_name": "Python 3",
   "language": "python",
   "name": "python3"
  },
  "language_info": {
   "codemirror_mode": {
    "name": "ipython",
    "version": 3
   },
   "file_extension": ".py",
   "mimetype": "text/x-python",
   "name": "python",
   "nbconvert_exporter": "python",
   "pygments_lexer": "ipython3",
   "version": "3.6.8"
  }
 },
 "nbformat": 4,
 "nbformat_minor": 2
}
