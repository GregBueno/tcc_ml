{
 "cells": [
  {
   "cell_type": "code",
   "execution_count": 1,
   "metadata": {},
   "outputs": [],
   "source": [
    "import joblib\n",
    "import pandas as pd\n",
    "import numpy as np\n",
    "import os\n",
    "import seaborn as sns\n",
    "import matplotlib.pyplot as plt\n",
    "import numpy as np\n",
    "\n",
    "%matplotlib inline\n",
    "\n",
    "import warnings\n",
    "warnings.filterwarnings(\"ignore\", category=FutureWarning)\n",
    "\n",
    "from sklearn.exceptions import DataConversionWarning\n",
    "warnings.filterwarnings(action='ignore', category=DataConversionWarning)\n",
    "\n",
    "pd.options.display.max_rows = 1000\n",
    "pd.options.display.max_columns = 50\n",
    "pd.set_option('display.max_colwidth', 120)"
   ]
  },
  {
   "cell_type": "code",
   "execution_count": 2,
   "metadata": {},
   "outputs": [],
   "source": [
    "from sklearn.utils.multiclass import unique_labels\n",
    "def plot_confusion_matrix(y_true, y_pred, classes,\n",
    "                          normalize=False,\n",
    "                          title=None,\n",
    "                          cmap=plt.cm.Blues):\n",
    "    \"\"\"\n",
    "    This function prints and plots the confusion matrix.\n",
    "    Normalization can be applied by setting `normalize=True`.\n",
    "    \"\"\"\n",
    "    if not title:\n",
    "        if normalize:\n",
    "            title = 'Normalized confusion matrix'\n",
    "        else:\n",
    "            title = 'Confusion matrix, without normalization'\n",
    "\n",
    "    # Compute confusion matrix\n",
    "    cm = confusion_matrix(y_true, y_pred);\n",
    "    # Only use the labels that appear in the data\n",
    "    classes = classes[unique_labels(y_true, y_pred)]\n",
    "    if normalize:\n",
    "        cm = cm.astype('float') / cm.sum(axis=1)[:, np.newaxis]\n",
    "        print(\"Normalized confusion matrix\")\n",
    "    else:\n",
    "        print('Confusion matrix, without normalization')\n",
    "\n",
    "        \n",
    "    fig, ax = plt.subplots(1,1, figsize=(10,8))\n",
    "    \n",
    "    im = ax.imshow(cm, interpolation='nearest', cmap=cmap,vmin=0,vmax=1)\n",
    "    \n",
    "    cbar = fig.colorbar(im, ax=ax)\n",
    "    cbar.ax.tick_params(labelsize=15) \n",
    "#     ax.figure.colorbar(im, ax=ax)\n",
    "#     ax.tick_params(labelsize=10) \n",
    "    \n",
    "    # We want to show all ticks...\n",
    "    _ = ax.set_ylabel('True Label', fontsize=20)\n",
    "    _ = ax.set_xlabel('Predicted Label', fontsize=20)\n",
    "    _ = ax.set_xticklabels(classes,fontsize=20)\n",
    "    _ = ax.set_yticklabels(classes,fontsize=20)\n",
    "    _ = ax.set_title(title, fontsize=22)\n",
    "    \n",
    "    ax.set(xticks=np.arange(cm.shape[1]),\n",
    "           yticks=np.arange(cm.shape[0]),\n",
    "           # ... and label them with the respective list entries\n",
    "           xticklabels=classes, yticklabels=classes)\n",
    "#            title=title,\n",
    "#            ylabel='True label',\n",
    "#            xlabel='Predicted label')\n",
    "     \n",
    "    # Rotate the tick labels and set their alignment.\n",
    "    plt.setp(ax.get_xticklabels(), rotation=45, ha=\"right\",\n",
    "             rotation_mode=\"anchor\")\n",
    "    \n",
    "    # Loop over data dimensions and create text annotations.\n",
    "    fmt = '.2f' if normalize else 'd'\n",
    "    thresh = cm.max() / 2.\n",
    "    for i in range(cm.shape[0]):\n",
    "        for j in range(cm.shape[1]):\n",
    "            ax.text(j, i, format(cm[i, j], fmt),\n",
    "                    ha=\"center\", va=\"center\",\n",
    "                    color=\"white\" if cm[i, j] > thresh else \"black\",fontsize=15)\n",
    "    fig.tight_layout()\n",
    "    \n",
    "    #fig.savefig('./img.png',dpi = 300)   # save the figure to file\n",
    "#     plt.close(fig)    # close the figure window\n",
    "    \n",
    "    return ax"
   ]
  },
  {
   "cell_type": "code",
   "execution_count": 3,
   "metadata": {},
   "outputs": [],
   "source": [
    "def plot_freq(df, col, top_classes=20):\n",
    "    \"\"\"\n",
    "    :param df: dataframe\n",
    "    :param col: list of label string\n",
    "    :param top_classes: (integer) Plot top labels only.\n",
    "    \"\"\"\n",
    "    sns.set_style('whitegrid')\n",
    "\n",
    "    col = col\n",
    "    data = df[~df[col].isnull().any(axis=1)]\n",
    "    data = data.set_index(col)\n",
    "    \n",
    "    # Check out the frequency over each concept.\n",
    "    freq = pd.DataFrame({\n",
    "            'freq': data.index.value_counts(normalize=True),\n",
    "            'count': data.index.value_counts(normalize=False)},\n",
    "            index=data.index.value_counts(normalize=True).index)\n",
    "    print('Frequency(Top {})...'.format(top_classes))\n",
    "    freq = freq[:top_classes]\n",
    "    display(freq)\n",
    "    \n",
    "    # Plot bar chart.\n",
    "    fig, ax = plt.subplots(1,1, figsize=(15,8))\n",
    "    _ = freq.plot(y='freq', kind='bar', ax=ax, legend=False, colormap='Set2')\n",
    "    _ = ax.set_ylabel('frequency', fontsize='x-large')\n",
    "    _ = ax.set_xticklabels(freq.index.values, rotation=40, ha='right')\n",
    "    _ = ax.set_title('Frequency over Each Class', fontsize='x-large')"
   ]
  },
  {
   "cell_type": "markdown",
   "metadata": {},
   "source": [
    "# Table"
   ]
  },
  {
   "cell_type": "code",
   "execution_count": 4,
   "metadata": {},
   "outputs": [],
   "source": [
    "columnToClassify = 'priority'"
   ]
  },
  {
   "cell_type": "code",
   "execution_count": 5,
   "metadata": {},
   "outputs": [],
   "source": [
    "df_table_full = pd.read_csv(\"./resource/maint_order_process.csv\",low_memory=False)"
   ]
  },
  {
   "cell_type": "code",
   "execution_count": 6,
   "metadata": {},
   "outputs": [
    {
     "data": {
      "text/plain": [
       "(193005, 84)"
      ]
     },
     "execution_count": 6,
     "metadata": {},
     "output_type": "execute_result"
    }
   ],
   "source": [
    "df_table_full.shape"
   ]
  },
  {
   "cell_type": "code",
   "execution_count": 7,
   "metadata": {},
   "outputs": [
    {
     "data": {
      "text/html": [
       "<div>\n",
       "<style scoped>\n",
       "    .dataframe tbody tr th:only-of-type {\n",
       "        vertical-align: middle;\n",
       "    }\n",
       "\n",
       "    .dataframe tbody tr th {\n",
       "        vertical-align: top;\n",
       "    }\n",
       "\n",
       "    .dataframe thead th {\n",
       "        text-align: right;\n",
       "    }\n",
       "</style>\n",
       "<table border=\"1\" class=\"dataframe\">\n",
       "  <thead>\n",
       "    <tr style=\"text-align: right;\">\n",
       "      <th></th>\n",
       "      <th>priority</th>\n",
       "      <th>count</th>\n",
       "    </tr>\n",
       "  </thead>\n",
       "  <tbody>\n",
       "    <tr>\n",
       "      <th>0</th>\n",
       "      <td>1</td>\n",
       "      <td>141982</td>\n",
       "    </tr>\n",
       "    <tr>\n",
       "      <th>1</th>\n",
       "      <td>2</td>\n",
       "      <td>19733</td>\n",
       "    </tr>\n",
       "    <tr>\n",
       "      <th>2</th>\n",
       "      <td>3</td>\n",
       "      <td>17652</td>\n",
       "    </tr>\n",
       "    <tr>\n",
       "      <th>3</th>\n",
       "      <td>4</td>\n",
       "      <td>9092</td>\n",
       "    </tr>\n",
       "    <tr>\n",
       "      <th>4</th>\n",
       "      <td>5</td>\n",
       "      <td>4546</td>\n",
       "    </tr>\n",
       "  </tbody>\n",
       "</table>\n",
       "</div>"
      ],
      "text/plain": [
       "   priority   count\n",
       "0         1  141982\n",
       "1         2   19733\n",
       "2         3   17652\n",
       "3         4    9092\n",
       "4         5    4546"
      ]
     },
     "execution_count": 7,
     "metadata": {},
     "output_type": "execute_result"
    }
   ],
   "source": [
    "df_table_full.groupby('priority').size().reset_index(name='count')"
   ]
  },
  {
   "cell_type": "code",
   "execution_count": 8,
   "metadata": {},
   "outputs": [],
   "source": [
    "df_plot = df_table_full.groupby(['priority']).size().reset_index(name='count').sort_values(by=['count'],ascending=False)"
   ]
  },
  {
   "cell_type": "code",
   "execution_count": 9,
   "metadata": {},
   "outputs": [
    {
     "data": {
      "image/png": "[encoded data removed]",
      "text/plain": [
       "<Figure size 576x432 with 1 Axes>"
      ]
     },
     "metadata": {},
     "output_type": "display_data"
    }
   ],
   "source": [
    "sns.set_style('whitegrid')\n",
    "fig, ax = plt.subplots(1,1, figsize=(8,6))\n",
    "_ = df_plot.plot(y='count', kind='bar', ax=ax, legend=False, colormap='Set2')\n",
    "_ = ax.set_ylabel('Count', fontsize='x-large')\n",
    "_ = ax.set_xlabel('Label', fontsize='x-large')\n",
    "_ = ax.set_xticklabels(df_plot.priority.values, rotation=40, ha='right')\n",
    "_ = ax.set_title('Data Count by Class', fontsize='x-large')"
   ]
  },
  {
   "cell_type": "raw",
   "metadata": {},
   "source": [
    "for column in df_table_full.columns:\n",
    "    print(column)\n",
    "    display(df_table_full.groupby([column]).size().reset_index(name='count').sort_values(by=['count'],ascending=False))"
   ]
  },
  {
   "cell_type": "markdown",
   "metadata": {},
   "source": [
    "# TOPSIS Result"
   ]
  },
  {
   "cell_type": "code",
   "execution_count": 10,
   "metadata": {},
   "outputs": [],
   "source": [
    "df_topsis = pd.read_csv('./resource/output_topsis.csv')"
   ]
  },
  {
   "cell_type": "code",
   "execution_count": 11,
   "metadata": {},
   "outputs": [],
   "source": [
    "df_topsis = df_topsis[df_topsis.col!='priority']"
   ]
  },
  {
   "cell_type": "code",
   "execution_count": 12,
   "metadata": {},
   "outputs": [
    {
     "data": {
      "text/plain": [
       "(83, 7)"
      ]
     },
     "execution_count": 12,
     "metadata": {},
     "output_type": "execute_result"
    }
   ],
   "source": [
    "df_topsis.shape"
   ]
  },
  {
   "cell_type": "code",
   "execution_count": 13,
   "metadata": {},
   "outputs": [
    {
     "data": {
      "text/html": [
       "<div>\n",
       "<style scoped>\n",
       "    .dataframe tbody tr th:only-of-type {\n",
       "        vertical-align: middle;\n",
       "    }\n",
       "\n",
       "    .dataframe tbody tr th {\n",
       "        vertical-align: top;\n",
       "    }\n",
       "\n",
       "    .dataframe thead th {\n",
       "        text-align: right;\n",
       "    }\n",
       "</style>\n",
       "<table border=\"1\" class=\"dataframe\">\n",
       "  <thead>\n",
       "    <tr style=\"text-align: right;\">\n",
       "      <th></th>\n",
       "      <th>col</th>\n",
       "      <th>typevalue</th>\n",
       "      <th>usenull</th>\n",
       "      <th>p_null</th>\n",
       "      <th>p_unique</th>\n",
       "      <th>p_max_row_class</th>\n",
       "      <th>rank_topsis</th>\n",
       "    </tr>\n",
       "  </thead>\n",
       "  <tbody>\n",
       "    <tr>\n",
       "      <th>0</th>\n",
       "      <td>third_loc_id</td>\n",
       "      <td>1.0</td>\n",
       "      <td>1.0</td>\n",
       "      <td>0.033937</td>\n",
       "      <td>0.013533</td>\n",
       "      <td>0.031963</td>\n",
       "      <td>0.979647</td>\n",
       "    </tr>\n",
       "    <tr>\n",
       "      <th>1</th>\n",
       "      <td>second_loc_id</td>\n",
       "      <td>1.0</td>\n",
       "      <td>1.0</td>\n",
       "      <td>0.026155</td>\n",
       "      <td>0.003212</td>\n",
       "      <td>0.067071</td>\n",
       "      <td>0.966268</td>\n",
       "    </tr>\n",
       "    <tr>\n",
       "      <th>2</th>\n",
       "      <td>cost_center_id</td>\n",
       "      <td>1.0</td>\n",
       "      <td>1.0</td>\n",
       "      <td>0.025989</td>\n",
       "      <td>0.001264</td>\n",
       "      <td>0.068382</td>\n",
       "      <td>0.965746</td>\n",
       "    </tr>\n",
       "    <tr>\n",
       "      <th>3</th>\n",
       "      <td>asset_id</td>\n",
       "      <td>1.0</td>\n",
       "      <td>1.0</td>\n",
       "      <td>0.025901</td>\n",
       "      <td>0.051905</td>\n",
       "      <td>0.031693</td>\n",
       "      <td>0.959837</td>\n",
       "    </tr>\n",
       "    <tr>\n",
       "      <th>4</th>\n",
       "      <td>asset_group_id</td>\n",
       "      <td>1.0</td>\n",
       "      <td>1.0</td>\n",
       "      <td>0.025901</td>\n",
       "      <td>0.006580</td>\n",
       "      <td>0.089459</td>\n",
       "      <td>0.955425</td>\n",
       "    </tr>\n",
       "  </tbody>\n",
       "</table>\n",
       "</div>"
      ],
      "text/plain": [
       "              col  typevalue  usenull    p_null  p_unique  p_max_row_class  \\\n",
       "0    third_loc_id        1.0      1.0  0.033937  0.013533         0.031963   \n",
       "1   second_loc_id        1.0      1.0  0.026155  0.003212         0.067071   \n",
       "2  cost_center_id        1.0      1.0  0.025989  0.001264         0.068382   \n",
       "3        asset_id        1.0      1.0  0.025901  0.051905         0.031693   \n",
       "4  asset_group_id        1.0      1.0  0.025901  0.006580         0.089459   \n",
       "\n",
       "   rank_topsis  \n",
       "0     0.979647  \n",
       "1     0.966268  \n",
       "2     0.965746  \n",
       "3     0.959837  \n",
       "4     0.955425  "
      ]
     },
     "execution_count": 13,
     "metadata": {},
     "output_type": "execute_result"
    }
   ],
   "source": [
    "df_topsis.head()"
   ]
  },
  {
   "cell_type": "code",
   "execution_count": 14,
   "metadata": {},
   "outputs": [],
   "source": [
    "list_exclude = ['cancel_user_id','origin_doc','prog_year_week_number','maint_order_cancel_reason_id',\n",
    "                'total_cost','rpn','what','when','who','why','how','maint_order_on_hold_reason_id','performed_worktime',\n",
    "                'estimated_worktime','performed_asset_downtime','id_mobile','mobile_uuid','rework_cos','index',\n",
    "                'priority_calculated','maint_req_priority','maint_req_id',\n",
    "                'user_text','scheduled_to_origin','est_finish_at','scheduled_to','est_finish_at_origin','logged_user_id']\n",
    "\n",
    "df_exclude = df_table_full\n",
    "\n",
    "for i in list_exclude:\n",
    "    try:\n",
    "        df_exclude = df_exclude.drop(i, axis=1)\n",
    "    except:\n",
    "        pass"
   ]
  },
  {
   "cell_type": "code",
   "execution_count": 15,
   "metadata": {},
   "outputs": [],
   "source": [
    "df_topsis = df_topsis[df_topsis.col.isin(df_exclude.columns)]"
   ]
  },
  {
   "cell_type": "code",
   "execution_count": 16,
   "metadata": {},
   "outputs": [],
   "source": [
    "df_topsis = df_topsis.reset_index().drop('index',axis=1)"
   ]
  },
  {
   "cell_type": "code",
   "execution_count": 17,
   "metadata": {},
   "outputs": [],
   "source": [
    "topsis5 = list(df_topsis[:5].col.values)\n",
    "topsis10 = list(df_topsis[:10].col.values)\n",
    "topsis15 = list(df_topsis[:15].col.values)\n",
    "topsis20 = list(df_topsis[:20].col.values)\n",
    "topsis25 = list(df_topsis[:25].col.values)"
   ]
  },
  {
   "cell_type": "code",
   "execution_count": 18,
   "metadata": {},
   "outputs": [],
   "source": [
    "# Select columns based in condition\n",
    "df_select = df_topsis.query(\"p_null < 0.5 and p_unique < 0.5 and p_max_row_class < 0.8\")\n",
    "manualcols = list(df_select.col.values)"
   ]
  },
  {
   "cell_type": "markdown",
   "metadata": {},
   "source": [
    "# Normalize Field Priority"
   ]
  },
  {
   "cell_type": "code",
   "execution_count": 18,
   "metadata": {},
   "outputs": [
    {
     "name": "stdout",
     "output_type": "stream",
     "text": [
      "(4546, 84)\n",
      "(4546, 84)\n",
      "(4546, 84)\n",
      "(4546, 84)\n",
      "(4546, 84)\n"
     ]
    }
   ],
   "source": [
    "min_value = min(list(df_table_full.groupby(['priority']).size()))\n",
    "\n",
    "priority_values = list(df_table_full.priority.unique())\n",
    "\n",
    "list_df = []\n",
    "for i in priority_values:\n",
    "    df_aux = df_table_full.query(f\"priority=={str(i)}\")\n",
    "    df_aux = df_aux.sample(frac=1).reset_index(drop=True)\n",
    "    df_aux = df_aux[:min_value]\n",
    "    list_df.append(df_aux)\n",
    "    \n",
    "for t in list_df:\n",
    "    print(t.shape)"
   ]
  },
  {
   "cell_type": "code",
   "execution_count": 19,
   "metadata": {},
   "outputs": [],
   "source": [
    "# Use Table Normalized or Table Raw\n",
    "# df_table = pd.concat(list_df)\n",
    "df_table = df_table_full"
   ]
  },
  {
   "cell_type": "code",
   "execution_count": 20,
   "metadata": {},
   "outputs": [],
   "source": [
    "df_table_backup = df_table.copy()"
   ]
  },
  {
   "cell_type": "code",
   "execution_count": 21,
   "metadata": {},
   "outputs": [
    {
     "name": "stdout",
     "output_type": "stream",
     "text": [
      "Field Labels  [1 3 5 2 4]\n",
      "Table Thape  (193005, 84)\n"
     ]
    }
   ],
   "source": [
    "print('Field Labels ', df_table[columnToClassify].unique())\n",
    "print('Table Thape ',df_table.shape)"
   ]
  },
  {
   "cell_type": "markdown",
   "metadata": {},
   "source": [
    "# Choose Dataframe"
   ]
  },
  {
   "cell_type": "code",
   "execution_count": 22,
   "metadata": {},
   "outputs": [],
   "source": [
    "\"\"\"\n",
    "Options \n",
    "------\n",
    "topsis5 topsis10 topsis15 topsis20 topsis25 manualcols\n",
    "\"\"\"\n",
    "df_table = df_table_backup[[columnToClassify,*topsis25]]"
   ]
  },
  {
   "cell_type": "code",
   "execution_count": 23,
   "metadata": {},
   "outputs": [
    {
     "data": {
      "text/html": [
       "<div>\n",
       "<style scoped>\n",
       "    .dataframe tbody tr th:only-of-type {\n",
       "        vertical-align: middle;\n",
       "    }\n",
       "\n",
       "    .dataframe tbody tr th {\n",
       "        vertical-align: top;\n",
       "    }\n",
       "\n",
       "    .dataframe thead th {\n",
       "        text-align: right;\n",
       "    }\n",
       "</style>\n",
       "<table border=\"1\" class=\"dataframe\">\n",
       "  <thead>\n",
       "    <tr style=\"text-align: right;\">\n",
       "      <th></th>\n",
       "      <th>priority</th>\n",
       "      <th>third_loc_id</th>\n",
       "      <th>second_loc_id</th>\n",
       "      <th>cost_center_id</th>\n",
       "      <th>asset_id</th>\n",
       "      <th>asset_group_id</th>\n",
       "      <th>first_loc_id</th>\n",
       "      <th>area_id</th>\n",
       "      <th>employee_id</th>\n",
       "      <th>employee_team_id</th>\n",
       "      <th>maint_plan_id</th>\n",
       "      <th>maint_service_type_id</th>\n",
       "      <th>maint_service_nature_id</th>\n",
       "      <th>asset_part_id</th>\n",
       "      <th>operator_team_id</th>\n",
       "      <th>damage_type_id</th>\n",
       "      <th>asset_part_child_id</th>\n",
       "      <th>component_id</th>\n",
       "      <th>maint_failure_id</th>\n",
       "      <th>maint_cause_id</th>\n",
       "      <th>maint_action_id</th>\n",
       "      <th>cause_type_id</th>\n",
       "      <th>cause_countermeasure_id</th>\n",
       "      <th>cause_feature_id</th>\n",
       "      <th>breakdown_typology_id</th>\n",
       "      <th>maint_possible_cause_id</th>\n",
       "    </tr>\n",
       "  </thead>\n",
       "  <tbody>\n",
       "    <tr>\n",
       "      <th>0</th>\n",
       "      <td>1</td>\n",
       "      <td>NaN</td>\n",
       "      <td>350.0</td>\n",
       "      <td>38.0</td>\n",
       "      <td>7399.0</td>\n",
       "      <td>113.0</td>\n",
       "      <td>349.0</td>\n",
       "      <td>3</td>\n",
       "      <td>NaN</td>\n",
       "      <td>5.0</td>\n",
       "      <td>NaN</td>\n",
       "      <td>4</td>\n",
       "      <td>NaN</td>\n",
       "      <td>NaN</td>\n",
       "      <td>NaN</td>\n",
       "      <td>NaN</td>\n",
       "      <td>NaN</td>\n",
       "      <td>NaN</td>\n",
       "      <td>NaN</td>\n",
       "      <td>NaN</td>\n",
       "      <td>NaN</td>\n",
       "      <td>NaN</td>\n",
       "      <td>NaN</td>\n",
       "      <td>NaN</td>\n",
       "      <td>NaN</td>\n",
       "      <td>NaN</td>\n",
       "    </tr>\n",
       "    <tr>\n",
       "      <th>1</th>\n",
       "      <td>1</td>\n",
       "      <td>NaN</td>\n",
       "      <td>350.0</td>\n",
       "      <td>38.0</td>\n",
       "      <td>7399.0</td>\n",
       "      <td>113.0</td>\n",
       "      <td>349.0</td>\n",
       "      <td>3</td>\n",
       "      <td>NaN</td>\n",
       "      <td>NaN</td>\n",
       "      <td>NaN</td>\n",
       "      <td>4</td>\n",
       "      <td>NaN</td>\n",
       "      <td>NaN</td>\n",
       "      <td>NaN</td>\n",
       "      <td>NaN</td>\n",
       "      <td>NaN</td>\n",
       "      <td>NaN</td>\n",
       "      <td>NaN</td>\n",
       "      <td>NaN</td>\n",
       "      <td>NaN</td>\n",
       "      <td>NaN</td>\n",
       "      <td>NaN</td>\n",
       "      <td>NaN</td>\n",
       "      <td>NaN</td>\n",
       "      <td>NaN</td>\n",
       "    </tr>\n",
       "    <tr>\n",
       "      <th>2</th>\n",
       "      <td>3</td>\n",
       "      <td>106.0</td>\n",
       "      <td>18.0</td>\n",
       "      <td>15.0</td>\n",
       "      <td>379.0</td>\n",
       "      <td>59.0</td>\n",
       "      <td>13.0</td>\n",
       "      <td>2</td>\n",
       "      <td>5.0</td>\n",
       "      <td>3.0</td>\n",
       "      <td>NaN</td>\n",
       "      <td>1</td>\n",
       "      <td>4.0</td>\n",
       "      <td>NaN</td>\n",
       "      <td>NaN</td>\n",
       "      <td>NaN</td>\n",
       "      <td>NaN</td>\n",
       "      <td>NaN</td>\n",
       "      <td>NaN</td>\n",
       "      <td>NaN</td>\n",
       "      <td>NaN</td>\n",
       "      <td>NaN</td>\n",
       "      <td>NaN</td>\n",
       "      <td>NaN</td>\n",
       "      <td>NaN</td>\n",
       "      <td>NaN</td>\n",
       "    </tr>\n",
       "    <tr>\n",
       "      <th>3</th>\n",
       "      <td>1</td>\n",
       "      <td>326.0</td>\n",
       "      <td>238.0</td>\n",
       "      <td>22.0</td>\n",
       "      <td>7161.0</td>\n",
       "      <td>112.0</td>\n",
       "      <td>231.0</td>\n",
       "      <td>4</td>\n",
       "      <td>NaN</td>\n",
       "      <td>NaN</td>\n",
       "      <td>NaN</td>\n",
       "      <td>4</td>\n",
       "      <td>110.0</td>\n",
       "      <td>NaN</td>\n",
       "      <td>NaN</td>\n",
       "      <td>NaN</td>\n",
       "      <td>NaN</td>\n",
       "      <td>NaN</td>\n",
       "      <td>NaN</td>\n",
       "      <td>NaN</td>\n",
       "      <td>NaN</td>\n",
       "      <td>NaN</td>\n",
       "      <td>NaN</td>\n",
       "      <td>NaN</td>\n",
       "      <td>NaN</td>\n",
       "      <td>NaN</td>\n",
       "    </tr>\n",
       "    <tr>\n",
       "      <th>4</th>\n",
       "      <td>1</td>\n",
       "      <td>335.0</td>\n",
       "      <td>239.0</td>\n",
       "      <td>22.0</td>\n",
       "      <td>7191.0</td>\n",
       "      <td>112.0</td>\n",
       "      <td>231.0</td>\n",
       "      <td>4</td>\n",
       "      <td>NaN</td>\n",
       "      <td>NaN</td>\n",
       "      <td>NaN</td>\n",
       "      <td>4</td>\n",
       "      <td>110.0</td>\n",
       "      <td>NaN</td>\n",
       "      <td>NaN</td>\n",
       "      <td>NaN</td>\n",
       "      <td>NaN</td>\n",
       "      <td>NaN</td>\n",
       "      <td>NaN</td>\n",
       "      <td>NaN</td>\n",
       "      <td>NaN</td>\n",
       "      <td>NaN</td>\n",
       "      <td>NaN</td>\n",
       "      <td>NaN</td>\n",
       "      <td>NaN</td>\n",
       "      <td>NaN</td>\n",
       "    </tr>\n",
       "  </tbody>\n",
       "</table>\n",
       "</div>"
      ],
      "text/plain": [
       "   priority  third_loc_id  second_loc_id  cost_center_id  asset_id  \\\n",
       "0         1           NaN          350.0            38.0    7399.0   \n",
       "1         1           NaN          350.0            38.0    7399.0   \n",
       "2         3         106.0           18.0            15.0     379.0   \n",
       "3         1         326.0          238.0            22.0    7161.0   \n",
       "4         1         335.0          239.0            22.0    7191.0   \n",
       "\n",
       "   asset_group_id  first_loc_id  area_id  employee_id  employee_team_id  \\\n",
       "0           113.0         349.0        3          NaN               5.0   \n",
       "1           113.0         349.0        3          NaN               NaN   \n",
       "2            59.0          13.0        2          5.0               3.0   \n",
       "3           112.0         231.0        4          NaN               NaN   \n",
       "4           112.0         231.0        4          NaN               NaN   \n",
       "\n",
       "   maint_plan_id  maint_service_type_id  maint_service_nature_id  \\\n",
       "0            NaN                      4                      NaN   \n",
       "1            NaN                      4                      NaN   \n",
       "2            NaN                      1                      4.0   \n",
       "3            NaN                      4                    110.0   \n",
       "4            NaN                      4                    110.0   \n",
       "\n",
       "   asset_part_id  operator_team_id  damage_type_id  asset_part_child_id  \\\n",
       "0            NaN               NaN             NaN                  NaN   \n",
       "1            NaN               NaN             NaN                  NaN   \n",
       "2            NaN               NaN             NaN                  NaN   \n",
       "3            NaN               NaN             NaN                  NaN   \n",
       "4            NaN               NaN             NaN                  NaN   \n",
       "\n",
       "   component_id  maint_failure_id  maint_cause_id  maint_action_id  \\\n",
       "0           NaN               NaN             NaN              NaN   \n",
       "1           NaN               NaN             NaN              NaN   \n",
       "2           NaN               NaN             NaN              NaN   \n",
       "3           NaN               NaN             NaN              NaN   \n",
       "4           NaN               NaN             NaN              NaN   \n",
       "\n",
       "   cause_type_id  cause_countermeasure_id  cause_feature_id  \\\n",
       "0            NaN                      NaN               NaN   \n",
       "1            NaN                      NaN               NaN   \n",
       "2            NaN                      NaN               NaN   \n",
       "3            NaN                      NaN               NaN   \n",
       "4            NaN                      NaN               NaN   \n",
       "\n",
       "   breakdown_typology_id  maint_possible_cause_id  \n",
       "0                    NaN                      NaN  \n",
       "1                    NaN                      NaN  \n",
       "2                    NaN                      NaN  \n",
       "3                    NaN                      NaN  \n",
       "4                    NaN                      NaN  "
      ]
     },
     "execution_count": 23,
     "metadata": {},
     "output_type": "execute_result"
    }
   ],
   "source": [
    "df_table.head()"
   ]
  },
  {
   "cell_type": "code",
   "execution_count": 24,
   "metadata": {},
   "outputs": [],
   "source": [
    "# df_table.hist()\n",
    "# plt.show()"
   ]
  },
  {
   "cell_type": "raw",
   "metadata": {},
   "source": [
    "#A Normal Distribution of every column of our dataset without last column\n",
    "breast_norm = df_table.iloc[:, 1:]\n",
    "for column in breast_norm.columns:\n",
    "    mu, sigma = breast_norm[column].mean(), breast_norm[column].std()\n",
    "    s = np.random.normal(mu, sigma, breast_norm[column].count())\n",
    "    count, bins, ignored = plt.hist(s, 30, density=True)\n",
    "    plt.plot(bins, 1/(sigma * np.sqrt(2 * np.pi)) * \n",
    "             np.exp( - (bins - mu)**2 / (2 * sigma**2) ),\n",
    "             linewidth=2, color='r')\n",
    "    plt.xlabel(breast_norm[column].name)\n",
    "    plt.ylabel(\"Probability\")\n",
    "    plt.show()"
   ]
  },
  {
   "cell_type": "code",
   "execution_count": 25,
   "metadata": {},
   "outputs": [],
   "source": [
    "previsores = df_table.drop(columnToClassify, axis=1)\n",
    "classe = df_table[[columnToClassify]]\n",
    "\n",
    "previsores_names = list(df_table.drop(columnToClassify, axis=1).columns)\n",
    "class_names = df_table[columnToClassify].unique().astype(str)"
   ]
  },
  {
   "cell_type": "code",
   "execution_count": 26,
   "metadata": {},
   "outputs": [],
   "source": [
    "_,cols = previsores.shape"
   ]
  },
  {
   "cell_type": "markdown",
   "metadata": {},
   "source": [
    "# Features Transform"
   ]
  },
  {
   "cell_type": "code",
   "execution_count": 27,
   "metadata": {},
   "outputs": [
    {
     "name": "stderr",
     "output_type": "stream",
     "text": [
      "C:\\Users\\GREGO\\AppData\\Local\\conda\\conda\\envs\\PIBITI\\lib\\site-packages\\ipykernel_launcher.py:8: SettingWithCopyWarning: \n",
      "A value is trying to be set on a copy of a slice from a DataFrame.\n",
      "Try using .loc[row_indexer,col_indexer] = value instead\n",
      "\n",
      "See the caveats in the documentation: http://pandas.pydata.org/pandas-docs/stable/indexing.html#indexing-view-versus-copy\n",
      "  \n"
     ]
    }
   ],
   "source": [
    "from sklearn.preprocessing import LabelEncoder\n",
    "\n",
    "labelencoder_previsores = LabelEncoder()\n",
    "for i in previsores.columns:\n",
    "    previsores[i] = labelencoder_previsores.fit_transform(previsores[i])\n",
    "\n",
    "labelencoder_classe = LabelEncoder()\n",
    "classe[columnToClassify] = labelencoder_classe.fit_transform(classe[columnToClassify])"
   ]
  },
  {
   "cell_type": "markdown",
   "metadata": {},
   "source": [
    "# Test OneHotEncoder"
   ]
  },
  {
   "cell_type": "raw",
   "metadata": {},
   "source": [
    "test = previsores[['maint_service_type_id']]"
   ]
  },
  {
   "cell_type": "raw",
   "metadata": {},
   "source": [
    "Enc_ohe, Enc_label = OneHotEncoder(), LabelEncoder()\n",
    "test[\"Dummies\"] = Enc_label.fit_transform(test[\"maint_service_type_id\"])\n",
    "test2 = pd.DataFrame(Enc_ohe.fit_transform(test[[\"Dummies\"]]).todense(), columns = Enc_label.classes_)"
   ]
  },
  {
   "cell_type": "markdown",
   "metadata": {},
   "source": [
    "# Split Dataset"
   ]
  },
  {
   "cell_type": "code",
   "execution_count": 28,
   "metadata": {},
   "outputs": [],
   "source": [
    "from sklearn.model_selection import train_test_split\n",
    "\n",
    "previsores_train, previsores_test, classe_train, classe_test = train_test_split(previsores, \n",
    "                                                                                classe,\n",
    "                                                                                test_size=0.30,\n",
    "                                                                                random_state=0)"
   ]
  },
  {
   "cell_type": "code",
   "execution_count": 29,
   "metadata": {},
   "outputs": [],
   "source": [
    "X_test = previsores_test \n",
    "y_test = classe_test"
   ]
  },
  {
   "cell_type": "markdown",
   "metadata": {},
   "source": [
    "# Smote"
   ]
  },
  {
   "cell_type": "code",
   "execution_count": 247,
   "metadata": {},
   "outputs": [],
   "source": [
    "from imblearn.over_sampling import SMOTE\n",
    "smt = SMOTE()\n",
    "X_train, y_train = smt.fit_sample(previsores_train, classe_train)\n",
    "print( np.bincount(y_train) )"
   ]
  },
  {
   "cell_type": "code",
   "execution_count": 30,
   "metadata": {},
   "outputs": [
    {
     "name": "stdout",
     "output_type": "stream",
     "text": [
      "[3199 3199 3199 3199 3199]\n"
     ]
    }
   ],
   "source": [
    "from imblearn.under_sampling import NearMiss\n",
    "nr = NearMiss()\n",
    "X_train, y_train = nr.fit_sample(previsores_train, classe_train)\n",
    "print( np.bincount(y_train) )"
   ]
  },
  {
   "cell_type": "markdown",
   "metadata": {},
   "source": [
    "# Test Varius Algorithms"
   ]
  },
  {
   "cell_type": "code",
   "execution_count": 267,
   "metadata": {},
   "outputs": [],
   "source": [
    "#sklearn\n",
    "from sklearn.model_selection import train_test_split, cross_val_score\n",
    "from sklearn.metrics import mean_squared_error,confusion_matrix, precision_score, recall_score, auc,roc_curve\n",
    "from sklearn import ensemble, linear_model, neighbors, svm, tree, neural_network\n",
    "from sklearn.pipeline import make_pipeline\n",
    "from sklearn.linear_model import Ridge\n",
    "from sklearn.preprocessing import PolynomialFeatures\n",
    "from sklearn import svm,model_selection, tree, linear_model, neighbors, naive_bayes, ensemble, discriminant_analysis, gaussian_process\n",
    "\n",
    "#load package\n",
    "import pandas as pd\n",
    "import numpy as np\n",
    "import matplotlib.pyplot as plt\n",
    "#from math import sqrt\n",
    "import seaborn as sns\n",
    "\n",
    "import warnings\n",
    "warnings.filterwarnings('ignore')"
   ]
  },
  {
   "cell_type": "code",
   "execution_count": 281,
   "metadata": {},
   "outputs": [],
   "source": [
    "MLA = [\n",
    "    #Ensemble Methods\n",
    "    ensemble.AdaBoostClassifier(),\n",
    "    ensemble.BaggingClassifier(),\n",
    "    ensemble.ExtraTreesClassifier(),\n",
    "    ensemble.GradientBoostingClassifier(),\n",
    "    ensemble.RandomForestClassifier(),\n",
    "\n",
    "    #Gaussian Processes\n",
    "#     gaussian_process.GaussianProcessClassifier(),\n",
    "    \n",
    "    #GLM\n",
    "#     linear_model.LogisticRegressionCV(),\n",
    "#     linear_model.PassiveAggressiveClassifier(),\n",
    "#     linear_model. RidgeClassifierCV(),\n",
    "#     linear_model.SGDClassifier(),\n",
    "#     linear_model.Perceptron(),\n",
    "    \n",
    "    #Navies Bayes\n",
    "#     naive_bayes.BernoulliNB(),\n",
    "#     naive_bayes.GaussianNB(),\n",
    "    \n",
    "    #Nearest Neighbor\n",
    "    neighbors.KNeighborsClassifier(),\n",
    "    \n",
    "    #SVM\n",
    "#     svm.SVC(probability=True),\n",
    "#     svm.NuSVC(probability=True),\n",
    "#     svm.LinearSVC(),\n",
    "    \n",
    "    #Trees    \n",
    "    tree.DecisionTreeClassifier(),\n",
    "   #tree.ExtraTreeClassifier(),\n",
    "    \n",
    "    ]"
   ]
  },
  {
   "cell_type": "code",
   "execution_count": 282,
   "metadata": {},
   "outputs": [
    {
     "name": "stdout",
     "output_type": "stream",
     "text": [
      "AdaBoostClassifier\n",
      "BaggingClassifier\n",
      "ExtraTreesClassifier\n",
      "GradientBoostingClassifier\n",
      "RandomForestClassifier\n",
      "KNeighborsClassifier\n",
      "DecisionTreeClassifier\n"
     ]
    }
   ],
   "source": [
    "MLA_columns = []\n",
    "MLA_compare = pd.DataFrame(columns = MLA_columns)\n",
    "\n",
    "\n",
    "row_index = 0\n",
    "for alg in MLA:\n",
    "    print(alg.__class__.__name__)\n",
    "    \n",
    "    predicted = alg.fit(X_train, y_train).predict(X_test)\n",
    "#     fp, tp, th = roc_curve(y_test, predicted)\n",
    "    MLA_name = alg.__class__.__name__\n",
    "    MLA_compare.loc[row_index,'MLA Name'] = MLA_name\n",
    "    MLA_compare.loc[row_index, 'MLA Train Accuracy'] = round(alg.score(X_train, y_train), 4)\n",
    "    MLA_compare.loc[row_index, 'MLA Test Accuracy'] = round(alg.score(X_test, y_test), 4)\n",
    "#     MLA_compare.loc[row_index, 'MLA Precission'] = precision_score(X_test, predicted)\n",
    "#     MLA_compare.loc[row_index, 'MLA Recall'] = recall_score(X_test, predicted)\n",
    "#     MLA_compare.loc[row_index, 'MLA AUC'] = auc(fp, tp)\n",
    "    \n",
    "    row_index+=1\n",
    "    \n",
    "MLA_compare.sort_values(by = ['MLA Test Accuracy'], ascending = False, inplace = True)    "
   ]
  },
  {
   "cell_type": "code",
   "execution_count": 283,
   "metadata": {},
   "outputs": [
    {
     "data": {
      "text/html": [
       "<div>\n",
       "<style scoped>\n",
       "    .dataframe tbody tr th:only-of-type {\n",
       "        vertical-align: middle;\n",
       "    }\n",
       "\n",
       "    .dataframe tbody tr th {\n",
       "        vertical-align: top;\n",
       "    }\n",
       "\n",
       "    .dataframe thead th {\n",
       "        text-align: right;\n",
       "    }\n",
       "</style>\n",
       "<table border=\"1\" class=\"dataframe\">\n",
       "  <thead>\n",
       "    <tr style=\"text-align: right;\">\n",
       "      <th></th>\n",
       "      <th>MLA Name</th>\n",
       "      <th>MLA Train Accuracy</th>\n",
       "      <th>MLA Test Accuracy</th>\n",
       "    </tr>\n",
       "  </thead>\n",
       "  <tbody>\n",
       "    <tr>\n",
       "      <th>3</th>\n",
       "      <td>GradientBoostingClassifier</td>\n",
       "      <td>0.7290</td>\n",
       "      <td>0.4972</td>\n",
       "    </tr>\n",
       "    <tr>\n",
       "      <th>4</th>\n",
       "      <td>RandomForestClassifier</td>\n",
       "      <td>0.9859</td>\n",
       "      <td>0.4945</td>\n",
       "    </tr>\n",
       "    <tr>\n",
       "      <th>1</th>\n",
       "      <td>BaggingClassifier</td>\n",
       "      <td>0.9855</td>\n",
       "      <td>0.4889</td>\n",
       "    </tr>\n",
       "    <tr>\n",
       "      <th>0</th>\n",
       "      <td>AdaBoostClassifier</td>\n",
       "      <td>0.5392</td>\n",
       "      <td>0.4722</td>\n",
       "    </tr>\n",
       "    <tr>\n",
       "      <th>6</th>\n",
       "      <td>DecisionTreeClassifier</td>\n",
       "      <td>1.0000</td>\n",
       "      <td>0.4276</td>\n",
       "    </tr>\n",
       "    <tr>\n",
       "      <th>2</th>\n",
       "      <td>ExtraTreesClassifier</td>\n",
       "      <td>1.0000</td>\n",
       "      <td>0.3733</td>\n",
       "    </tr>\n",
       "    <tr>\n",
       "      <th>5</th>\n",
       "      <td>KNeighborsClassifier</td>\n",
       "      <td>0.7382</td>\n",
       "      <td>0.2307</td>\n",
       "    </tr>\n",
       "  </tbody>\n",
       "</table>\n",
       "</div>"
      ],
      "text/plain": [
       "                     MLA Name  MLA Train Accuracy  MLA Test Accuracy\n",
       "3  GradientBoostingClassifier              0.7290             0.4972\n",
       "4      RandomForestClassifier              0.9859             0.4945\n",
       "1           BaggingClassifier              0.9855             0.4889\n",
       "0          AdaBoostClassifier              0.5392             0.4722\n",
       "6      DecisionTreeClassifier              1.0000             0.4276\n",
       "2        ExtraTreesClassifier              1.0000             0.3733\n",
       "5        KNeighborsClassifier              0.7382             0.2307"
      ]
     },
     "execution_count": 283,
     "metadata": {},
     "output_type": "execute_result"
    }
   ],
   "source": [
    "MLA_compare"
   ]
  },
  {
   "cell_type": "code",
   "execution_count": null,
   "metadata": {},
   "outputs": [],
   "source": []
  },
  {
   "cell_type": "code",
   "execution_count": null,
   "metadata": {},
   "outputs": [],
   "source": []
  },
  {
   "cell_type": "markdown",
   "metadata": {},
   "source": [
    "# Verify ML Code"
   ]
  },
  {
   "cell_type": "code",
   "execution_count": 256,
   "metadata": {},
   "outputs": [
    {
     "name": "stdout",
     "output_type": "stream",
     "text": [
      "KNN: 0.190266 (0.130446)\n",
      "CART: 0.349305 (0.156191)\n",
      "NB: 0.287112 (0.219584)\n",
      "RFC: 0.355749 (0.174184)\n",
      "GBC: 0.342113 (0.119975)\n",
      "ADA: 0.206260 (0.131574)\n"
     ]
    }
   ],
   "source": [
    "# Compare Algorithms\n",
    "import pandas\n",
    "import matplotlib.pyplot as plt\n",
    "from sklearn import model_selection\n",
    "from sklearn.linear_model import LogisticRegression\n",
    "from sklearn.tree import DecisionTreeClassifier\n",
    "from sklearn.neighbors import KNeighborsClassifier\n",
    "from sklearn.discriminant_analysis import LinearDiscriminantAnalysis\n",
    "from sklearn.naive_bayes import GaussianNB\n",
    "from sklearn.svm import SVC\n",
    "\n",
    "from sklearn.ensemble import RandomForestClassifier\n",
    "from sklearn.ensemble import GradientBoostingClassifier\n",
    "from sklearn.ensemble import AdaBoostClassifier\n",
    "\n",
    "X = X_train\n",
    "Y = y_train\n",
    "\n",
    "seed = 7\n",
    "\n",
    "models = []\n",
    "# models.append(('LR', LogisticRegression()))\n",
    "# models.append(('LDA', LinearDiscriminantAnalysis()))\n",
    "models.append(('KNN', KNeighborsClassifier()))\n",
    "models.append(('CART', DecisionTreeClassifier()))\n",
    "models.append(('NB', GaussianNB()))\n",
    "models.append(('RFC', RandomForestClassifier(n_estimators=100)))\n",
    "models.append(('GBC', GradientBoostingClassifier(n_estimators=100)))\n",
    "models.append(('ADA', AdaBoostClassifier()))\n",
    "\n",
    "# models.append(('SVM', SVC()))\n",
    "# evaluate each model in turn\n",
    "results = []\n",
    "names = []\n",
    "scoring = 'accuracy'\n",
    "for name, model in models:\n",
    "\tkfold = model_selection.KFold(n_splits=10, random_state=seed)\n",
    "\tcv_results = model_selection.cross_val_score(model, X, Y, cv=kfold, scoring=scoring)\n",
    "\tresults.append(cv_results)\n",
    "\tnames.append(name)\n",
    "\tmsg = \"%s: %f (%f)\" % (name, cv_results.mean(), cv_results.std())\n",
    "\tprint(msg)"
   ]
  },
  {
   "cell_type": "code",
   "execution_count": 257,
   "metadata": {},
   "outputs": [
    {
     "data": {
      "image/png": "[encoded data removed]",
      "text/plain": [
       "<Figure size 720x504 with 1 Axes>"
      ]
     },
     "metadata": {
      "image/png": {
       "height": 461,
       "width": 593
      },
      "needs_background": "light"
     },
     "output_type": "display_data"
    }
   ],
   "source": [
    "# boxplot algorithm comparison\n",
    "fig = plt.figure(figsize=(10,7))\n",
    "fig.suptitle('Algorithm Comparison')\n",
    "ax = fig.add_subplot(111)\n",
    "plt.boxplot(results)\n",
    "ax.set_xticklabels(names)\n",
    "# ax.set_ylim(ymin=0,ymax=1)\n",
    "plt.show()"
   ]
  },
  {
   "cell_type": "code",
   "execution_count": null,
   "metadata": {},
   "outputs": [],
   "source": []
  },
  {
   "cell_type": "markdown",
   "metadata": {},
   "source": [
    "# ML Code"
   ]
  },
  {
   "cell_type": "code",
   "execution_count": 32,
   "metadata": {},
   "outputs": [],
   "source": [
    "# from sklearn.naive_bayes import GaussianNB\n",
    "# classificador = GaussianNB()\n",
    "\n",
    "# from sklearn.tree import DecisionTreeClassifier, export\n",
    "# classificador = DecisionTreeClassifier(criterion='entropy')\n",
    "\n",
    "# from sklearn.svm import SVC\n",
    "# classificador = SVC(kernel='rbf',random_state=1,gamma='auto')\n",
    "\n",
    "# from sklearn.neighbors import KNeighborsClassifier\n",
    "# classificador = KNeighborsClassifier(n_neighbors=5, metric='minkowski', p=4)\n",
    "\n",
    "# from sklearn.neural_network import MLPClassifier\n",
    "# classificador = MLPClassifier(solver='lbfgs', alpha=1e-5, hidden_layer_sizes=(5, 2), random_state=1)\n",
    "\n",
    "from sklearn.ensemble import RandomForestClassifier\n",
    "classificador = RandomForestClassifier(n_estimators=100);\n",
    "\n",
    "previsores_train = X_train\n",
    "classe_train = y_train\n",
    "classificador.fit(previsores_train,classe_train)\n",
    "previsoes = classificador.predict(previsores_test)"
   ]
  },
  {
   "cell_type": "code",
   "execution_count": 33,
   "metadata": {},
   "outputs": [
    {
     "name": "stdout",
     "output_type": "stream",
     "text": [
      "Accuracy: 0.5251632067976927\n"
     ]
    }
   ],
   "source": [
    "from sklearn.metrics import confusion_matrix, accuracy_score, precision_score, classification_report\n",
    "\n",
    "accuracy = accuracy_score(classe_test, previsoes, normalize = True)\n",
    "# precision = precision_score(classe_test, previsoes, average=\"macro\")\n",
    "matriz = confusion_matrix(classe_test, previsoes)\n",
    "class_report = classification_report(classe_test, previsoes)\n",
    "\n",
    "print(\"Accuracy:\", accuracy)\n",
    "# print(\"Precision:\", precision)"
   ]
  },
  {
   "cell_type": "code",
   "execution_count": 34,
   "metadata": {},
   "outputs": [
    {
     "name": "stdout",
     "output_type": "stream",
     "text": [
      "              precision    recall  f1-score   support\n",
      "\n",
      "           0       0.96      0.47      0.63     42505\n",
      "           1       0.29      0.71      0.41      5967\n",
      "           2       0.58      0.50      0.53      5419\n",
      "           3       0.24      0.88      0.38      2664\n",
      "           4       0.13      0.77      0.23      1347\n",
      "\n",
      "    accuracy                           0.53     57902\n",
      "   macro avg       0.44      0.67      0.44     57902\n",
      "weighted avg       0.80      0.53      0.58     57902\n",
      "\n"
     ]
    }
   ],
   "source": [
    "print(class_report)"
   ]
  },
  {
   "cell_type": "code",
   "execution_count": 68,
   "metadata": {},
   "outputs": [
    {
     "name": "stdout",
     "output_type": "stream",
     "text": [
      "Normalized confusion matrix\n"
     ]
    },
    {
     "data": {
      "text/plain": [
       "<matplotlib.axes._subplots.AxesSubplot at 0x1e3a30e6a90>"
      ]
     },
     "execution_count": 68,
     "metadata": {},
     "output_type": "execute_result"
    },
    {
     "data": {
      "image/png": "[encoded data removed]",
      "text/plain": [
       "<Figure size 720x576 with 2 Axes>"
      ]
     },
     "metadata": {
      "image/png": {
       "height": 566,
       "width": 621
      }
     },
     "output_type": "display_data"
    }
   ],
   "source": [
    "%config InlineBackend.figure_format ='retina'\n",
    "sns.set_style(\"white\")\n",
    "np.set_printoptions(precision=4)\n",
    "# Plot non-normalized confusion matrix\n",
    "plot_confusion_matrix(classe_test, previsoes, classes=class_names,normalize=True,title='Confusion Matrix' )"
   ]
  },
  {
   "cell_type": "code",
   "execution_count": null,
   "metadata": {},
   "outputs": [],
   "source": []
  },
  {
   "cell_type": "markdown",
   "metadata": {},
   "source": [
    "# Random Forest"
   ]
  },
  {
   "cell_type": "code",
   "execution_count": null,
   "metadata": {},
   "outputs": [],
   "source": [
    "from sklearn.ensemble import RandomForestClassifier\n",
    "#Create a Gaussian Classifier\n",
    "rfc=RandomForestClassifier(n_estimators=10);\n",
    "#Train the model using the training sets y_pred=clf.predict(X_test)\n",
    "rfc.fit(previsores_train,classe_train);\n",
    "# y_pred=rfc.predict(X_test)"
   ]
  },
  {
   "cell_type": "code",
   "execution_count": null,
   "metadata": {},
   "outputs": [],
   "source": [
    "feature_imp = pd.Series(rfc.feature_importances_,index=previsores_names).sort_values(ascending=False);\n",
    "\n",
    "plt.rcParams['figure.figsize']=(10,10)\n",
    "# Creating a bar plot\n",
    "sns.barplot(x=feature_imp, y=feature_imp.index)\n",
    "# Add labels to your graph\n",
    "plt.xlabel('Feature Importance Score')\n",
    "plt.ylabel('Features')\n",
    "plt.title(\"Visualizing Important Features\")\n",
    "plt.show()"
   ]
  },
  {
   "cell_type": "code",
   "execution_count": null,
   "metadata": {},
   "outputs": [],
   "source": []
  },
  {
   "cell_type": "code",
   "execution_count": null,
   "metadata": {},
   "outputs": [],
   "source": []
  },
  {
   "cell_type": "code",
   "execution_count": null,
   "metadata": {},
   "outputs": [],
   "source": []
  },
  {
   "cell_type": "markdown",
   "metadata": {},
   "source": [
    "# With CSV Evaluation"
   ]
  },
  {
   "cell_type": "code",
   "execution_count": 41,
   "metadata": {},
   "outputs": [
    {
     "name": "stdout",
     "output_type": "stream",
     "text": [
      "before (100, 118)\n",
      "after (100, 6)\n"
     ]
    }
   ],
   "source": [
    "import pandas as pd\n",
    "\n",
    "pathFile = './base_manusis/evaluation/maint_order.csv'\n",
    "\n",
    "df_eval = pd.read_csv(pathFile, delimiter=';')\n",
    "\n",
    "print('before',df_eval.shape)\n",
    "\n",
    "df_eval = df_eval[df_table.columns]\n",
    "\n",
    "print('after',df_eval.shape)\n",
    "\n",
    "df_eval = df_eval.fillna(0)"
   ]
  },
  {
   "cell_type": "code",
   "execution_count": 43,
   "metadata": {},
   "outputs": [
    {
     "data": {
      "text/html": [
       "<div>\n",
       "<style scoped>\n",
       "    .dataframe tbody tr th:only-of-type {\n",
       "        vertical-align: middle;\n",
       "    }\n",
       "\n",
       "    .dataframe tbody tr th {\n",
       "        vertical-align: top;\n",
       "    }\n",
       "\n",
       "    .dataframe thead th {\n",
       "        text-align: right;\n",
       "    }\n",
       "</style>\n",
       "<table border=\"1\" class=\"dataframe\">\n",
       "  <thead>\n",
       "    <tr style=\"text-align: right;\">\n",
       "      <th></th>\n",
       "      <th>priority</th>\n",
       "      <th>count</th>\n",
       "    </tr>\n",
       "  </thead>\n",
       "  <tbody>\n",
       "    <tr>\n",
       "      <th>0</th>\n",
       "      <td>1</td>\n",
       "      <td>56</td>\n",
       "    </tr>\n",
       "    <tr>\n",
       "      <th>1</th>\n",
       "      <td>2</td>\n",
       "      <td>32</td>\n",
       "    </tr>\n",
       "    <tr>\n",
       "      <th>2</th>\n",
       "      <td>3</td>\n",
       "      <td>12</td>\n",
       "    </tr>\n",
       "  </tbody>\n",
       "</table>\n",
       "</div>"
      ],
      "text/plain": [
       "   priority  count\n",
       "0         1     56\n",
       "1         2     32\n",
       "2         3     12"
      ]
     },
     "execution_count": 43,
     "metadata": {},
     "output_type": "execute_result"
    }
   ],
   "source": [
    "df_eval.groupby('priority').size().reset_index(name='count')"
   ]
  },
  {
   "cell_type": "code",
   "execution_count": 44,
   "metadata": {},
   "outputs": [
    {
     "data": {
      "text/html": [
       "<div>\n",
       "<style scoped>\n",
       "    .dataframe tbody tr th:only-of-type {\n",
       "        vertical-align: middle;\n",
       "    }\n",
       "\n",
       "    .dataframe tbody tr th {\n",
       "        vertical-align: top;\n",
       "    }\n",
       "\n",
       "    .dataframe thead th {\n",
       "        text-align: right;\n",
       "    }\n",
       "</style>\n",
       "<table border=\"1\" class=\"dataframe\">\n",
       "  <thead>\n",
       "    <tr style=\"text-align: right;\">\n",
       "      <th></th>\n",
       "      <th>priority</th>\n",
       "      <th>third_loc_id</th>\n",
       "      <th>second_loc_id</th>\n",
       "      <th>cost_center_id</th>\n",
       "      <th>asset_id</th>\n",
       "      <th>asset_group_id</th>\n",
       "    </tr>\n",
       "  </thead>\n",
       "  <tbody>\n",
       "    <tr>\n",
       "      <th>1</th>\n",
       "      <td>1</td>\n",
       "      <td>3486</td>\n",
       "      <td>3057</td>\n",
       "      <td>283</td>\n",
       "      <td>32897</td>\n",
       "      <td>2536</td>\n",
       "    </tr>\n",
       "  </tbody>\n",
       "</table>\n",
       "</div>"
      ],
      "text/plain": [
       "   priority  third_loc_id  second_loc_id  cost_center_id  asset_id  \\\n",
       "1         1          3486           3057             283     32897   \n",
       "\n",
       "   asset_group_id  \n",
       "1            2536  "
      ]
     },
     "execution_count": 44,
     "metadata": {},
     "output_type": "execute_result"
    }
   ],
   "source": [
    "df_eval.loc[[1]]"
   ]
  },
  {
   "cell_type": "code",
   "execution_count": 45,
   "metadata": {},
   "outputs": [],
   "source": [
    "previsores_eval = df_eval.drop(columnToClassify, axis=1)\n",
    "classe_eval = df_eval[[columnToClassify]]\n",
    "\n",
    "previsores_names_eval = list(df_eval.drop(columnToClassify, axis=1).columns)\n",
    "class_names_eval = df_eval[columnToClassify].unique().astype(str)"
   ]
  },
  {
   "cell_type": "code",
   "execution_count": 46,
   "metadata": {},
   "outputs": [],
   "source": [
    "_,cols = previsores_eval.shape"
   ]
  },
  {
   "cell_type": "code",
   "execution_count": 47,
   "metadata": {},
   "outputs": [
    {
     "name": "stderr",
     "output_type": "stream",
     "text": [
      "C:\\Users\\GREGO\\AppData\\Local\\conda\\conda\\envs\\PIBITI\\lib\\site-packages\\ipykernel_launcher.py:8: SettingWithCopyWarning: \n",
      "A value is trying to be set on a copy of a slice from a DataFrame.\n",
      "Try using .loc[row_indexer,col_indexer] = value instead\n",
      "\n",
      "See the caveats in the documentation: http://pandas.pydata.org/pandas-docs/stable/indexing.html#indexing-view-versus-copy\n",
      "  \n"
     ]
    }
   ],
   "source": [
    "from sklearn.preprocessing import LabelEncoder\n",
    "\n",
    "labelencoder_previsores = LabelEncoder()\n",
    "for i in previsores_eval.columns:\n",
    "    previsores_eval[i] = labelencoder_previsores.fit_transform(previsores_eval[i])\n",
    "\n",
    "labelencoder_classe = LabelEncoder()\n",
    "classe_eval[columnToClassify] = labelencoder_classe.fit_transform(classe_eval[columnToClassify])"
   ]
  },
  {
   "cell_type": "code",
   "execution_count": 48,
   "metadata": {},
   "outputs": [],
   "source": [
    "previsoes_eval = classificador.predict(previsores_eval)"
   ]
  },
  {
   "cell_type": "code",
   "execution_count": 62,
   "metadata": {},
   "outputs": [
    {
     "name": "stdout",
     "output_type": "stream",
     "text": [
      "precision: 0.13\n"
     ]
    }
   ],
   "source": [
    "from sklearn.metrics import confusion_matrix, accuracy_score, classification_report\n",
    "\n",
    "precisao_eval = accuracy_score(classe_eval, previsoes_eval)\n",
    "matriz_eval = confusion_matrix(classe_eval, previsoes_eval)\n",
    "class_report_eval = classification_report(classe_eval, previsoes_eval)\n",
    "    \n",
    "print('precision:', precisao_eval)"
   ]
  },
  {
   "cell_type": "code",
   "execution_count": 63,
   "metadata": {},
   "outputs": [
    {
     "data": {
      "text/plain": [
       "array([[ 6,  3, 46,  1],\n",
       "       [16,  6,  5,  5],\n",
       "       [11,  0,  1,  0],\n",
       "       [ 0,  0,  0,  0]], dtype=int64)"
      ]
     },
     "execution_count": 63,
     "metadata": {},
     "output_type": "execute_result"
    }
   ],
   "source": [
    "matriz_eval"
   ]
  },
  {
   "cell_type": "code",
   "execution_count": 64,
   "metadata": {},
   "outputs": [
    {
     "name": "stdout",
     "output_type": "stream",
     "text": [
      "              precision    recall  f1-score   support\n",
      "\n",
      "           0       0.18      0.11      0.13        56\n",
      "           1       0.67      0.19      0.29        32\n",
      "           2       0.02      0.08      0.03        12\n",
      "           4       0.00      0.00      0.00         0\n",
      "\n",
      "    accuracy                           0.13       100\n",
      "   macro avg       0.22      0.09      0.11       100\n",
      "weighted avg       0.32      0.13      0.17       100\n",
      "\n"
     ]
    }
   ],
   "source": [
    "print(class_report_eval)"
   ]
  },
  {
   "cell_type": "code",
   "execution_count": 54,
   "metadata": {},
   "outputs": [
    {
     "data": {
      "text/plain": [
       "{0, 1, 2}"
      ]
     },
     "execution_count": 54,
     "metadata": {},
     "output_type": "execute_result"
    }
   ],
   "source": [
    "set(list(classe_eval.priority.unique()))"
   ]
  },
  {
   "cell_type": "code",
   "execution_count": 52,
   "metadata": {},
   "outputs": [
    {
     "data": {
      "text/plain": [
       "{0, 1, 2, 4}"
      ]
     },
     "execution_count": 52,
     "metadata": {},
     "output_type": "execute_result"
    }
   ],
   "source": [
    "set(previsoes_eval)"
   ]
  },
  {
   "cell_type": "code",
   "execution_count": null,
   "metadata": {},
   "outputs": [],
   "source": []
  }
 ],
 "metadata": {
  "kernelspec": {
   "display_name": "Python 3",
   "language": "python",
   "name": "python3"
  },
  "language_info": {
   "codemirror_mode": {
    "name": "ipython",
    "version": 3
   },
   "file_extension": ".py",
   "mimetype": "text/x-python",
   "name": "python",
   "nbconvert_exporter": "python",
   "pygments_lexer": "ipython3",
   "version": "3.6.8"
  }
 },
 "nbformat": 4,
 "nbformat_minor": 2
}
