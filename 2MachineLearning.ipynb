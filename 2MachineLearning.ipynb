{
 "cells": [
  {
   "cell_type": "code",
   "execution_count": 55,
   "metadata": {},
   "outputs": [],
   "source": [
    "import joblib\n",
    "import pandas as pd\n",
    "import numpy as np\n",
    "import os\n",
    "import seaborn as sns\n",
    "import matplotlib.pyplot as plt\n",
    "%matplotlib inline\n",
    "\n",
    "pd.options.display.max_rows = 1000\n",
    "pd.options.display.max_columns = 50\n",
    "pd.set_option('display.max_colwidth', 120)"
   ]
  },
  {
   "cell_type": "code",
   "execution_count": 56,
   "metadata": {},
   "outputs": [],
   "source": [
    "from sklearn.utils.multiclass import unique_labels\n",
    "def plot_confusion_matrix(y_true, y_pred, classes,\n",
    "                          normalize=False,\n",
    "                          title=None,\n",
    "                          cmap=plt.cm.Blues):\n",
    "    \"\"\"\n",
    "    This function prints and plots the confusion matrix.\n",
    "    Normalization can be applied by setting `normalize=True`.\n",
    "    \"\"\"\n",
    "    if not title:\n",
    "        if normalize:\n",
    "            title = 'Normalized confusion matrix'\n",
    "        else:\n",
    "            title = 'Confusion matrix, without normalization'\n",
    "\n",
    "    # Compute confusion matrix\n",
    "    cm = confusion_matrix(y_true, y_pred);\n",
    "    # Only use the labels that appear in the data\n",
    "    classes = classes[unique_labels(y_true, y_pred)]\n",
    "    if normalize:\n",
    "        cm = cm.astype('float') / cm.sum(axis=1)[:, np.newaxis]\n",
    "        print(\"Normalized confusion matrix\")\n",
    "    else:\n",
    "        print('Confusion matrix, without normalization')\n",
    "\n",
    "    fig, ax = plt.subplots()\n",
    "    im = ax.imshow(cm, interpolation='nearest', cmap=cmap)\n",
    "    ax.figure.colorbar(im, ax=ax)\n",
    "    # We want to show all ticks...\n",
    "    ax.set(xticks=np.arange(cm.shape[1]),\n",
    "           yticks=np.arange(cm.shape[0]),\n",
    "           # ... and label them with the respective list entries\n",
    "           xticklabels=classes, yticklabels=classes,\n",
    "           title=title,\n",
    "           ylabel='True label',\n",
    "           xlabel='Predicted label')\n",
    "\n",
    "    # Rotate the tick labels and set their alignment.\n",
    "    plt.setp(ax.get_xticklabels(), rotation=45, ha=\"right\",\n",
    "             rotation_mode=\"anchor\")\n",
    "\n",
    "    # Loop over data dimensions and create text annotations.\n",
    "    fmt = '.2f' if normalize else 'd'\n",
    "    thresh = cm.max() / 2.\n",
    "    for i in range(cm.shape[0]):\n",
    "        for j in range(cm.shape[1]):\n",
    "            ax.text(j, i, format(cm[i, j], fmt),\n",
    "                    ha=\"center\", va=\"center\",\n",
    "                    color=\"white\" if cm[i, j] > thresh else \"black\")\n",
    "    fig.tight_layout()\n",
    "    return ax"
   ]
  },
  {
   "cell_type": "code",
   "execution_count": 4,
   "metadata": {},
   "outputs": [],
   "source": [
    "tableToRead = 'maint_order' # maint_order maint_req\n",
    "columnToClassify = 'priority'"
   ]
  },
  {
   "cell_type": "code",
   "execution_count": 5,
   "metadata": {},
   "outputs": [],
   "source": [
    "df_table_full = pd.read_csv(\"./base_manusis/preprocess_slim/\"+tableToRead+\"_etl.csv\",low_memory=False)"
   ]
  },
  {
   "cell_type": "code",
   "execution_count": 6,
   "metadata": {},
   "outputs": [],
   "source": [
    "df_backup = df_table_full.copy()"
   ]
  },
  {
   "cell_type": "code",
   "execution_count": 7,
   "metadata": {},
   "outputs": [
    {
     "data": {
      "text/html": [
       "<div>\n",
       "<style scoped>\n",
       "    .dataframe tbody tr th:only-of-type {\n",
       "        vertical-align: middle;\n",
       "    }\n",
       "\n",
       "    .dataframe tbody tr th {\n",
       "        vertical-align: top;\n",
       "    }\n",
       "\n",
       "    .dataframe thead th {\n",
       "        text-align: right;\n",
       "    }\n",
       "</style>\n",
       "<table border=\"1\" class=\"dataframe\">\n",
       "  <thead>\n",
       "    <tr style=\"text-align: right;\">\n",
       "      <th></th>\n",
       "      <th>area_id</th>\n",
       "    </tr>\n",
       "    <tr>\n",
       "      <th>priority</th>\n",
       "      <th></th>\n",
       "    </tr>\n",
       "  </thead>\n",
       "  <tbody>\n",
       "    <tr>\n",
       "      <th>1</th>\n",
       "      <td>141982</td>\n",
       "    </tr>\n",
       "    <tr>\n",
       "      <th>2</th>\n",
       "      <td>19733</td>\n",
       "    </tr>\n",
       "    <tr>\n",
       "      <th>3</th>\n",
       "      <td>17652</td>\n",
       "    </tr>\n",
       "    <tr>\n",
       "      <th>4</th>\n",
       "      <td>9092</td>\n",
       "    </tr>\n",
       "    <tr>\n",
       "      <th>5</th>\n",
       "      <td>4546</td>\n",
       "    </tr>\n",
       "  </tbody>\n",
       "</table>\n",
       "</div>"
      ],
      "text/plain": [
       "          area_id\n",
       "priority         \n",
       "1          141982\n",
       "2           19733\n",
       "3           17652\n",
       "4            9092\n",
       "5            4546"
      ]
     },
     "execution_count": 7,
     "metadata": {},
     "output_type": "execute_result"
    }
   ],
   "source": [
    "df_table_full.groupby('priority').count()[['area_id']]"
   ]
  },
  {
   "cell_type": "raw",
   "metadata": {},
   "source": [
    "def plot_freq(df, col, top_classes=20):\n",
    "    \"\"\"\n",
    "    :param df: dataframe\n",
    "    :param col: list of label string\n",
    "    :param top_classes: (integer) Plot top labels only.\n",
    "    \"\"\"\n",
    "    sns.set_style('whitegrid')\n",
    "\n",
    "    col = col\n",
    "    data = df[~df[col].isnull().any(axis=1)]\n",
    "    data = data.set_index(col)\n",
    "    \n",
    "    # Check out the frequency over each concept.\n",
    "    freq = pd.DataFrame({\n",
    "            'freq': data.index.value_counts(normalize=True),\n",
    "            'count': data.index.value_counts(normalize=False)},\n",
    "            index=data.index.value_counts(normalize=True).index)\n",
    "    print('Frequency(Top {})...'.format(top_classes))\n",
    "    freq = freq[:top_classes]\n",
    "    display(freq)\n",
    "    \n",
    "    # Plot bar chart.\n",
    "    fig, ax = plt.subplots(1,1, figsize=(15,8))\n",
    "    _ = freq.plot(y='freq', kind='bar', ax=ax, legend=False, colormap='Set2')\n",
    "    _ = ax.set_ylabel('frequency', fontsize='x-large')\n",
    "    _ = ax.set_xticklabels(freq.index.values, rotation=40, ha='right')\n",
    "    _ = ax.set_title('Frequency over Each Class', fontsize='x-large')"
   ]
  },
  {
   "cell_type": "raw",
   "metadata": {},
   "source": [
    "sns.set_style('whitegrid')"
   ]
  },
  {
   "cell_type": "raw",
   "metadata": {},
   "source": [
    "Test_df = df_table_full.groupby(['first_loc_id']).size().reset_index(name='count').sort_values(by=['count'],ascending=False)"
   ]
  },
  {
   "cell_type": "raw",
   "metadata": {},
   "source": [
    "final_df = Test_df[:40]\n",
    "\n",
    "fig, ax = plt.subplots(1,1, figsize=(15,8))\n",
    "_ = final_df.plot(y='count', kind='bar', ax=ax, legend=False, colormap='Set2')\n",
    "_ = ax.set_ylabel('Count', fontsize='x-large')\n",
    "_ = ax.set_xticklabels(final_df.first_loc_id.values, rotation=40, ha='right')\n",
    "_ = ax.set_title('Count Data Each Class', fontsize='x-large')"
   ]
  },
  {
   "cell_type": "raw",
   "metadata": {},
   "source": [
    "df_table_full.head()"
   ]
  },
  {
   "cell_type": "raw",
   "metadata": {},
   "source": [
    "df_table_full.columns"
   ]
  },
  {
   "cell_type": "raw",
   "metadata": {},
   "source": [
    "for column in df_table_full.columns:\n",
    "    print(column)\n",
    "    display(df_table_full.groupby([column]).size().reset_index(name='count').sort_values(by=['count'],ascending=False))"
   ]
  },
  {
   "cell_type": "code",
   "execution_count": 8,
   "metadata": {},
   "outputs": [],
   "source": [
    "min_value = min(list(df_table_full.groupby(['priority']).size()))"
   ]
  },
  {
   "cell_type": "code",
   "execution_count": 9,
   "metadata": {},
   "outputs": [],
   "source": [
    "priority_values = list(df_table_full.priority.unique())"
   ]
  },
  {
   "cell_type": "code",
   "execution_count": 10,
   "metadata": {},
   "outputs": [],
   "source": [
    "list_df = []\n",
    "for i in priority_values:\n",
    "    df_aux = df_table_full.query(f\"priority=={str(i)}\")\n",
    "    df_aux = df_aux.sample(frac=1).reset_index(drop=True)\n",
    "    df_aux = df_aux[:min_value]\n",
    "    list_df.append(df_aux)"
   ]
  },
  {
   "cell_type": "code",
   "execution_count": 11,
   "metadata": {},
   "outputs": [
    {
     "name": "stdout",
     "output_type": "stream",
     "text": [
      "(4546, 12)\n",
      "(4546, 12)\n",
      "(4546, 12)\n",
      "(4546, 12)\n",
      "(4546, 12)\n"
     ]
    }
   ],
   "source": [
    "for t in list_df:\n",
    "    print(t.shape)"
   ]
  },
  {
   "cell_type": "code",
   "execution_count": 25,
   "metadata": {},
   "outputs": [],
   "source": [
    "df_table = pd.concat(list_df)"
   ]
  },
  {
   "cell_type": "code",
   "execution_count": 13,
   "metadata": {},
   "outputs": [],
   "source": [
    "df_table = df_table_full"
   ]
  },
  {
   "cell_type": "code",
   "execution_count": 26,
   "metadata": {},
   "outputs": [
    {
     "data": {
      "text/plain": [
       "(22730, 12)"
      ]
     },
     "execution_count": 26,
     "metadata": {},
     "output_type": "execute_result"
    }
   ],
   "source": [
    "df_table.shape"
   ]
  },
  {
   "cell_type": "code",
   "execution_count": 27,
   "metadata": {},
   "outputs": [
    {
     "name": "stdout",
     "output_type": "stream",
     "text": [
      "[1 3 5 2 4]\n",
      "(22730, 12)\n"
     ]
    }
   ],
   "source": [
    "print(df_table[columnToClassify].unique())\n",
    "print(df_table.shape)"
   ]
  },
  {
   "cell_type": "code",
   "execution_count": 28,
   "metadata": {},
   "outputs": [],
   "source": [
    "previsores = df_table.drop(columnToClassify, axis=1)\n",
    "classe = df_table[[columnToClassify]]\n",
    "\n",
    "previsores_names = list(df_table.drop(columnToClassify, axis=1).columns)\n",
    "class_names = df_table[columnToClassify].unique().astype(str)"
   ]
  },
  {
   "cell_type": "code",
   "execution_count": 29,
   "metadata": {},
   "outputs": [],
   "source": [
    "_,cols = previsores.shape"
   ]
  },
  {
   "cell_type": "markdown",
   "metadata": {},
   "source": [
    "# Transforma features em códigos"
   ]
  },
  {
   "cell_type": "code",
   "execution_count": 30,
   "metadata": {},
   "outputs": [
    {
     "name": "stderr",
     "output_type": "stream",
     "text": [
      "/home/gregory/anaconda3/envs/pibiti/lib/python3.6/site-packages/ipykernel_launcher.py:8: SettingWithCopyWarning: \n",
      "A value is trying to be set on a copy of a slice from a DataFrame.\n",
      "Try using .loc[row_indexer,col_indexer] = value instead\n",
      "\n",
      "See the caveats in the documentation: http://pandas.pydata.org/pandas-docs/stable/indexing.html#indexing-view-versus-copy\n",
      "  \n"
     ]
    }
   ],
   "source": [
    "from sklearn.preprocessing import LabelEncoder\n",
    "\n",
    "labelencoder_previsores = LabelEncoder()\n",
    "for i in previsores.columns:\n",
    "    previsores[i] = labelencoder_previsores.fit_transform(previsores[i])\n",
    "\n",
    "labelencoder_classe = LabelEncoder()\n",
    "classe[columnToClassify] = labelencoder_classe.fit_transform(classe[columnToClassify])"
   ]
  },
  {
   "cell_type": "code",
   "execution_count": 31,
   "metadata": {},
   "outputs": [
    {
     "data": {
      "text/plain": [
       "(22730, 11)"
      ]
     },
     "execution_count": 31,
     "metadata": {},
     "output_type": "execute_result"
    }
   ],
   "source": [
    "previsores.shape"
   ]
  },
  {
   "cell_type": "code",
   "execution_count": 32,
   "metadata": {},
   "outputs": [],
   "source": [
    "# from sklearn.preprocessing import StandardScaler\n",
    "# scaler = StandardScaler()\n",
    "# previsores = scaler.fit_transform(previsores)"
   ]
  },
  {
   "cell_type": "code",
   "execution_count": 33,
   "metadata": {},
   "outputs": [],
   "source": [
    "from sklearn.model_selection import train_test_split\n",
    "\n",
    "previsores_train, previsores_test, classe_train, classe_test = train_test_split(previsores, \n",
    "                                                                                classe,\n",
    "                                                                                test_size=0.30,\n",
    "                                                                                random_state=0)"
   ]
  },
  {
   "cell_type": "code",
   "execution_count": 71,
   "metadata": {},
   "outputs": [
    {
     "name": "stderr",
     "output_type": "stream",
     "text": [
      "/home/gregory/anaconda3/envs/pibiti/lib/python3.6/site-packages/sklearn/utils/validation.py:724: DataConversionWarning: A column-vector y was passed when a 1d array was expected. Please change the shape of y to (n_samples, ), for example using ravel().\n",
      "  y = column_or_1d(y, warn=True)\n"
     ]
    }
   ],
   "source": [
    "# from sklearn.naive_bayes import GaussianNB\n",
    "# classificador = GaussianNB()\n",
    "\n",
    "# from sklearn.tree import DecisionTreeClassifier, export\n",
    "# classificador = DecisionTreeClassifier(criterion='entropy')\n",
    "\n",
    "from sklearn.svm import SVC\n",
    "classificador = SVC(kernel='rbf',random_state=1,gamma='auto')\n",
    "\n",
    "# from sklearn.neighbors import KNeighborsClassifier\n",
    "# classificador = KNeighborsClassifier(n_neighbors=5, metric='minkowski', p=4)\n",
    "\n",
    "# from sklearn.neural_network import MLPClassifier\n",
    "# classificador = MLPClassifier(solver='lbfgs', alpha=1e-5, hidden_layer_sizes=(5, 2), random_state=1)\n",
    "\n",
    "classificador.fit(previsores_train,classe_train)\n",
    "previsoes = classificador.predict(previsores_test)"
   ]
  },
  {
   "cell_type": "code",
   "execution_count": 72,
   "metadata": {},
   "outputs": [
    {
     "name": "stdout",
     "output_type": "stream",
     "text": [
      "precision: 0.5599061445959819\n"
     ]
    }
   ],
   "source": [
    "from sklearn.metrics import confusion_matrix, accuracy_score\n",
    "\n",
    "precisao = accuracy_score(classe_test,previsoes)\n",
    "matriz = confusion_matrix(classe_test,previsoes)\n",
    "\n",
    "print('precision:', precisao)"
   ]
  },
  {
   "cell_type": "code",
   "execution_count": 73,
   "metadata": {},
   "outputs": [
    {
     "name": "stdout",
     "output_type": "stream",
     "text": [
      "Normalized confusion matrix\n"
     ]
    },
    {
     "data": {
      "text/plain": [
       "<matplotlib.axes._subplots.AxesSubplot at 0x7fde74219b38>"
      ]
     },
     "execution_count": 73,
     "metadata": {},
     "output_type": "execute_result"
    },
    {
     "data": {
      "image/png": "[encoded data removed]",
      "text/plain": [
       "<Figure size 432x288 with 2 Axes>"
      ]
     },
     "metadata": {
      "image/png": {
       "height": 279,
       "width": 313
      },
      "needs_background": "light"
     },
     "output_type": "display_data"
    }
   ],
   "source": [
    "%config InlineBackend.figure_format ='retina'\n",
    "np.set_printoptions(precision=4)\n",
    "# Plot non-normalized confusion matrix\n",
    "plot_confusion_matrix(classe_test, previsoes, classes=class_names,normalize=True,title='Confusion matrix' )"
   ]
  },
  {
   "cell_type": "code",
   "execution_count": null,
   "metadata": {},
   "outputs": [],
   "source": []
  },
  {
   "cell_type": "code",
   "execution_count": null,
   "metadata": {},
   "outputs": [],
   "source": []
  },
  {
   "cell_type": "markdown",
   "metadata": {},
   "source": [
    "# Random Forest"
   ]
  },
  {
   "cell_type": "code",
   "execution_count": 40,
   "metadata": {},
   "outputs": [
    {
     "name": "stderr",
     "output_type": "stream",
     "text": [
      "/home/gregory/anaconda3/envs/pibiti/lib/python3.6/site-packages/ipykernel_launcher.py:5: DataConversionWarning: A column-vector y was passed when a 1d array was expected. Please change the shape of y to (n_samples,), for example using ravel().\n",
      "  \"\"\"\n"
     ]
    }
   ],
   "source": [
    "from sklearn.ensemble import RandomForestClassifier\n",
    "#Create a Gaussian Classifier\n",
    "rfc=RandomForestClassifier(n_estimators=10);\n",
    "#Train the model using the training sets y_pred=clf.predict(X_test)\n",
    "rfc.fit(previsores_train,classe_train);\n",
    "# y_pred=rfc.predict(X_test)"
   ]
  },
  {
   "cell_type": "code",
   "execution_count": 41,
   "metadata": {},
   "outputs": [],
   "source": [
    "feature_imp = pd.Series(rfc.feature_importances_,index=previsores_names).sort_values(ascending=False);"
   ]
  },
  {
   "cell_type": "code",
   "execution_count": 42,
   "metadata": {},
   "outputs": [
    {
     "data": {
      "image/png": "[encoded data removed]",
      "text/plain": [
       "<Figure size 720x720 with 1 Axes>"
      ]
     },
     "metadata": {
      "image/png": {
       "height": 603,
       "width": 731
      },
      "needs_background": "light"
     },
     "output_type": "display_data"
    }
   ],
   "source": [
    "plt.rcParams['figure.figsize']=(10,10)\n",
    "# Creating a bar plot\n",
    "sns.barplot(x=feature_imp, y=feature_imp.index)\n",
    "# Add labels to your graph\n",
    "plt.xlabel('Feature Importance Score')\n",
    "plt.ylabel('Features')\n",
    "plt.title(\"Visualizing Important Features\")\n",
    "plt.show()"
   ]
  },
  {
   "cell_type": "code",
   "execution_count": null,
   "metadata": {},
   "outputs": [],
   "source": []
  },
  {
   "cell_type": "code",
   "execution_count": null,
   "metadata": {},
   "outputs": [],
   "source": []
  },
  {
   "cell_type": "markdown",
   "metadata": {},
   "source": [
    "# OLD START"
   ]
  },
  {
   "cell_type": "code",
   "execution_count": null,
   "metadata": {},
   "outputs": [],
   "source": [
    "# from sklearn.preprocessing import OneHotEncoder\n",
    "\n",
    "# onehotencoder = OneHotEncoder(categorical_features=[3])\n",
    "# previsores_test = onehotencoder.fit_transform(previsores).toarray()\n",
    "\n",
    "# cols_onehot = []\n",
    "# for i in range(0,cols):\n",
    "#     if len(np.unique(previsores[:, i]))>2 :\n",
    "#         cols_onehot.append(i)\n",
    "\n",
    "# onehotencoder = OneHotEncoder(categorical_features=cols_onehot,sparse=False)\n",
    "# previsores = onehotencoder.fit_transform(previsores).toarray()"
   ]
  },
  {
   "cell_type": "markdown",
   "metadata": {},
   "source": [
    "# OLD END"
   ]
  },
  {
   "cell_type": "code",
   "execution_count": null,
   "metadata": {},
   "outputs": [],
   "source": []
  },
  {
   "cell_type": "markdown",
   "metadata": {},
   "source": [
    "# Parse TXT"
   ]
  },
  {
   "cell_type": "code",
   "execution_count": null,
   "metadata": {},
   "outputs": [],
   "source": [
    "import os\n",
    "import re\n",
    "import pandas as pd\n",
    "\n",
    "path = \"./base_manusis/evaluation/records_validate.txt\"\n",
    "\n",
    "with open(path, 'r', encoding=\"UTF-16\", errors='ignore') as f:\n",
    "    contents = f.readlines()\n",
    "\n",
    "test_list = []\n",
    "\n",
    "for data in contents:\n",
    "    if len(re.findall(r'\\{([^]]+)\\}',data)) > 0:\n",
    "        pass\n",
    "    elif 'description' in data:\n",
    "        pass\n",
    "    else:\n",
    "        if ':' in data:\n",
    "            aux_spl = data.split(':')\n",
    "            \n",
    "            aux_spl_2 = ':'.join(aux_spl[1:])\n",
    "            aux_spl_2 = aux_spl_2.replace(\"\\n\",\",\\n\")\n",
    "            \n",
    "            text = f'\"{aux_spl[0]}\":{aux_spl_2}'\n",
    "            test_list.append(text)\n",
    "        else:\n",
    "            test_list.append(data)\n",
    "            \n",
    "json_result = ''.join(test_list)\n",
    "json_result = json_result.replace(',\\n}','\\n}')\n",
    "json_result = \"[\"+json_result+\"]\"\n",
    "json_result = json_result.replace('null','None')\n",
    "json_result = json_result.replace('false','False')\n",
    "json_result = json_result.replace('true','True')\n",
    "\n",
    "# with open(\"./base_manusis/evaluation/records_etl.json\",'w') as f:\n",
    "#     f.writelines(json_result)\n",
    "    \n",
    "# with open('./base_manusis/evaluation/records_etl.json', 'r', errors='ignore') as f:\n",
    "#     contents2 = f.read()\n",
    "\n",
    "json_list = eval(json_result)"
   ]
  },
  {
   "cell_type": "markdown",
   "metadata": {},
   "source": [
    "# Test JSON Modelo"
   ]
  },
  {
   "cell_type": "code",
   "execution_count": null,
   "metadata": {},
   "outputs": [],
   "source": [
    "df_eval = pd.DataFrame(json_list)\n",
    "df_eval = df_eval[df_table.columns]\n",
    "\n",
    "def correc(x):\n",
    "    if x in [None,False,np.NaN]:\n",
    "        return 0\n",
    "    elif x in [True]:\n",
    "        return 1\n",
    "    else:\n",
    "        return x\n",
    "\n",
    "for col in df_table.columns:\n",
    "    df_eval[col] = df_eval[col].apply(correc)\n",
    "    \n",
    "df_eval.head()"
   ]
  },
  {
   "cell_type": "code",
   "execution_count": null,
   "metadata": {},
   "outputs": [],
   "source": [
    "previsores_eval = df_eval.drop(columnToClassify, axis=1)\n",
    "classe_eval = df_eval[[columnToClassify]]\n",
    "\n",
    "previsores_names_eval = list(df_eval.drop(columnToClassify, axis=1).columns)\n",
    "class_names_eval = df_eval[columnToClassify].unique().astype(str)"
   ]
  },
  {
   "cell_type": "code",
   "execution_count": null,
   "metadata": {},
   "outputs": [],
   "source": [
    "_,cols = previsores_eval.shape"
   ]
  },
  {
   "cell_type": "code",
   "execution_count": null,
   "metadata": {},
   "outputs": [],
   "source": [
    "from sklearn.preprocessing import LabelEncoder\n",
    "\n",
    "labelencoder_previsores = LabelEncoder()\n",
    "for i in previsores_eval.columns:\n",
    "    previsores_eval[i] = labelencoder_previsores.fit_transform(previsores_eval[i])\n",
    "\n",
    "labelencoder_classe = LabelEncoder()\n",
    "classe_eval[columnToClassify] = labelencoder_classe.fit_transform(classe_eval[columnToClassify])"
   ]
  },
  {
   "cell_type": "code",
   "execution_count": null,
   "metadata": {},
   "outputs": [],
   "source": [
    "previsoes_eval = classificador.predict(previsores_eval)"
   ]
  },
  {
   "cell_type": "code",
   "execution_count": null,
   "metadata": {},
   "outputs": [],
   "source": [
    "from sklearn.metrics import confusion_matrix, accuracy_score\n",
    "\n",
    "precisao_eval = accuracy_score(classe_eval,previsoes_eval)\n",
    "matriz_eval = confusion_matrix(classe_eval,previsoes_eval)\n",
    "\n",
    "print('precision:', precisao_eval)"
   ]
  },
  {
   "cell_type": "code",
   "execution_count": null,
   "metadata": {},
   "outputs": [],
   "source": []
  },
  {
   "cell_type": "markdown",
   "metadata": {},
   "source": [
    "# With CSV Evaluation"
   ]
  },
  {
   "cell_type": "code",
   "execution_count": null,
   "metadata": {},
   "outputs": [],
   "source": []
  },
  {
   "cell_type": "code",
   "execution_count": 43,
   "metadata": {},
   "outputs": [
    {
     "name": "stdout",
     "output_type": "stream",
     "text": [
      "before (100, 118)\n",
      "after (100, 12)\n"
     ]
    }
   ],
   "source": [
    "import pandas as pd\n",
    "\n",
    "pathFile = './base_manusis/evaluation/maint_order.csv'\n",
    "\n",
    "df_eval = pd.read_csv(pathFile, delimiter=';')\n",
    "\n",
    "print('before',df_eval.shape)\n",
    "\n",
    "df_eval = df_eval[df_table.columns]\n",
    "\n",
    "print('after',df_eval.shape)\n",
    "\n",
    "df_eval = df_eval.fillna(0)"
   ]
  },
  {
   "cell_type": "code",
   "execution_count": 81,
   "metadata": {},
   "outputs": [
    {
     "data": {
      "text/html": [
       "<div>\n",
       "<style scoped>\n",
       "    .dataframe tbody tr th:only-of-type {\n",
       "        vertical-align: middle;\n",
       "    }\n",
       "\n",
       "    .dataframe tbody tr th {\n",
       "        vertical-align: top;\n",
       "    }\n",
       "\n",
       "    .dataframe thead th {\n",
       "        text-align: right;\n",
       "    }\n",
       "</style>\n",
       "<table border=\"1\" class=\"dataframe\">\n",
       "  <thead>\n",
       "    <tr style=\"text-align: right;\">\n",
       "      <th></th>\n",
       "      <th>area_id</th>\n",
       "    </tr>\n",
       "    <tr>\n",
       "      <th>priority</th>\n",
       "      <th></th>\n",
       "    </tr>\n",
       "  </thead>\n",
       "  <tbody>\n",
       "    <tr>\n",
       "      <th>1</th>\n",
       "      <td>56</td>\n",
       "    </tr>\n",
       "    <tr>\n",
       "      <th>2</th>\n",
       "      <td>32</td>\n",
       "    </tr>\n",
       "    <tr>\n",
       "      <th>3</th>\n",
       "      <td>12</td>\n",
       "    </tr>\n",
       "  </tbody>\n",
       "</table>\n",
       "</div>"
      ],
      "text/plain": [
       "          area_id\n",
       "priority         \n",
       "1              56\n",
       "2              32\n",
       "3              12"
      ]
     },
     "execution_count": 81,
     "metadata": {},
     "output_type": "execute_result"
    }
   ],
   "source": [
    "df_eval.groupby('priority').count()[['area_id']]"
   ]
  },
  {
   "cell_type": "code",
   "execution_count": 44,
   "metadata": {},
   "outputs": [
    {
     "data": {
      "text/html": [
       "<div>\n",
       "<style scoped>\n",
       "    .dataframe tbody tr th:only-of-type {\n",
       "        vertical-align: middle;\n",
       "    }\n",
       "\n",
       "    .dataframe tbody tr th {\n",
       "        vertical-align: top;\n",
       "    }\n",
       "\n",
       "    .dataframe thead th {\n",
       "        text-align: right;\n",
       "    }\n",
       "</style>\n",
       "<table border=\"1\" class=\"dataframe\">\n",
       "  <thead>\n",
       "    <tr style=\"text-align: right;\">\n",
       "      <th></th>\n",
       "      <th>asset_id</th>\n",
       "      <th>third_loc_id</th>\n",
       "      <th>second_loc_id</th>\n",
       "      <th>cost_center_id</th>\n",
       "      <th>asset_group_id</th>\n",
       "      <th>first_loc_id</th>\n",
       "      <th>area_id</th>\n",
       "      <th>maint_service_type_id</th>\n",
       "      <th>maint_order_activities_type</th>\n",
       "      <th>is_sistematic</th>\n",
       "      <th>priority</th>\n",
       "      <th>maint_order_status_id</th>\n",
       "    </tr>\n",
       "  </thead>\n",
       "  <tbody>\n",
       "    <tr>\n",
       "      <th>1</th>\n",
       "      <td>32897</td>\n",
       "      <td>3486</td>\n",
       "      <td>3057</td>\n",
       "      <td>283</td>\n",
       "      <td>2536</td>\n",
       "      <td>2969</td>\n",
       "      <td>17</td>\n",
       "      <td>4</td>\n",
       "      <td>1</td>\n",
       "      <td>0</td>\n",
       "      <td>1</td>\n",
       "      <td>3</td>\n",
       "    </tr>\n",
       "  </tbody>\n",
       "</table>\n",
       "</div>"
      ],
      "text/plain": [
       "   asset_id  third_loc_id  second_loc_id  cost_center_id  asset_group_id  \\\n",
       "1     32897          3486           3057             283            2536   \n",
       "\n",
       "   first_loc_id  area_id  maint_service_type_id  maint_order_activities_type  \\\n",
       "1          2969       17                      4                            1   \n",
       "\n",
       "   is_sistematic  priority  maint_order_status_id  \n",
       "1              0         1                      3  "
      ]
     },
     "execution_count": 44,
     "metadata": {},
     "output_type": "execute_result"
    }
   ],
   "source": [
    "df_eval.loc[[1]]"
   ]
  },
  {
   "cell_type": "code",
   "execution_count": 45,
   "metadata": {},
   "outputs": [],
   "source": [
    "previsores_eval = df_eval.drop(columnToClassify, axis=1)\n",
    "classe_eval = df_eval[[columnToClassify]]\n",
    "\n",
    "previsores_names_eval = list(df_eval.drop(columnToClassify, axis=1).columns)\n",
    "class_names_eval = df_eval[columnToClassify].unique().astype(str)"
   ]
  },
  {
   "cell_type": "code",
   "execution_count": 46,
   "metadata": {},
   "outputs": [],
   "source": [
    "_,cols = previsores_eval.shape"
   ]
  },
  {
   "cell_type": "code",
   "execution_count": 47,
   "metadata": {},
   "outputs": [
    {
     "name": "stderr",
     "output_type": "stream",
     "text": [
      "/home/gregory/anaconda3/envs/pibiti/lib/python3.6/site-packages/ipykernel_launcher.py:8: SettingWithCopyWarning: \n",
      "A value is trying to be set on a copy of a slice from a DataFrame.\n",
      "Try using .loc[row_indexer,col_indexer] = value instead\n",
      "\n",
      "See the caveats in the documentation: http://pandas.pydata.org/pandas-docs/stable/indexing.html#indexing-view-versus-copy\n",
      "  \n"
     ]
    }
   ],
   "source": [
    "from sklearn.preprocessing import LabelEncoder\n",
    "\n",
    "labelencoder_previsores = LabelEncoder()\n",
    "for i in previsores_eval.columns:\n",
    "    previsores_eval[i] = labelencoder_previsores.fit_transform(previsores_eval[i])\n",
    "\n",
    "labelencoder_classe = LabelEncoder()\n",
    "classe_eval[columnToClassify] = labelencoder_classe.fit_transform(classe_eval[columnToClassify])"
   ]
  },
  {
   "cell_type": "code",
   "execution_count": 74,
   "metadata": {},
   "outputs": [],
   "source": [
    "previsoes_eval = classificador.predict(previsores_eval)"
   ]
  },
  {
   "cell_type": "code",
   "execution_count": 75,
   "metadata": {},
   "outputs": [
    {
     "name": "stdout",
     "output_type": "stream",
     "text": [
      "precision: 0.56\n"
     ]
    }
   ],
   "source": [
    "from sklearn.metrics import confusion_matrix, accuracy_score\n",
    "\n",
    "precisao_eval = accuracy_score(classe_eval,previsoes_eval)\n",
    "matriz_eval = confusion_matrix(classe_eval,previsoes_eval)\n",
    "\n",
    "print('precision:', precisao_eval)"
   ]
  },
  {
   "cell_type": "code",
   "execution_count": 76,
   "metadata": {},
   "outputs": [
    {
     "data": {
      "text/plain": [
       "array([[56,  0,  0],\n",
       "       [32,  0,  0],\n",
       "       [12,  0,  0]])"
      ]
     },
     "execution_count": 76,
     "metadata": {},
     "output_type": "execute_result"
    }
   ],
   "source": [
    "matriz_eval"
   ]
  },
  {
   "cell_type": "code",
   "execution_count": 77,
   "metadata": {},
   "outputs": [
    {
     "data": {
      "text/plain": [
       "array([0, 1, 2])"
      ]
     },
     "execution_count": 77,
     "metadata": {},
     "output_type": "execute_result"
    }
   ],
   "source": [
    "classe_eval.priority.unique()"
   ]
  },
  {
   "cell_type": "code",
   "execution_count": 78,
   "metadata": {},
   "outputs": [
    {
     "data": {
      "text/plain": [
       "{0}"
      ]
     },
     "execution_count": 78,
     "metadata": {},
     "output_type": "execute_result"
    }
   ],
   "source": [
    "set(previsoes_eval)"
   ]
  },
  {
   "cell_type": "code",
   "execution_count": null,
   "metadata": {},
   "outputs": [],
   "source": []
  }
 ],
 "metadata": {
  "kernelspec": {
   "display_name": "Python 3",
   "language": "python",
   "name": "python3"
  },
  "language_info": {
   "codemirror_mode": {
    "name": "ipython",
    "version": 3
   },
   "file_extension": ".py",
   "mimetype": "text/x-python",
   "name": "python",
   "nbconvert_exporter": "python",
   "pygments_lexer": "ipython3",
   "version": "3.6.8"
  }
 },
 "nbformat": 4,
 "nbformat_minor": 2
}
